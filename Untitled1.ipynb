{
  "nbformat": 4,
  "nbformat_minor": 0,
  "metadata": {
    "colab": {
      "provenance": []
    },
    "kernelspec": {
      "name": "python3",
      "display_name": "Python 3"
    },
    "language_info": {
      "name": "python"
    }
  },
  "cells": [
    {
      "cell_type": "code",
      "execution_count": 5,
      "metadata": {
        "id": "XrOPBtcrhYfA"
      },
      "outputs": [],
      "source": [
        "import pandas as pd\n",
        "import numpy as np\n",
        "import statsmodels.api as sm\n",
        "import matplotlib.pyplot as plt\n",
        "import seaborn as sns"
      ]
    },
    {
      "cell_type": "code",
      "source": [
        "df = pd.read_csv(\"datos_whales.csv\")"
      ],
      "metadata": {
        "id": "Xyu2HnTUheEq"
      },
      "execution_count": 6,
      "outputs": []
    },
    {
      "cell_type": "code",
      "source": [
        "df"
      ],
      "metadata": {
        "colab": {
          "base_uri": "https://localhost:8080/",
          "height": 424
        },
        "id": "cKJRDvBFhj6-",
        "outputId": "44df79fd-248e-4fb3-cdbf-44c52c09c188"
      },
      "execution_count": 7,
      "outputs": [
        {
          "output_type": "execute_result",
          "data": {
            "text/plain": [
              "       Country  SeeWhales   Age  Gender             Education  \\\n",
              "0    Australia          1  31.0  Female               Diploma   \n",
              "1           UK          0  22.0  Female                Degree   \n",
              "2          USA          0  46.0  Female                Degree   \n",
              "3       France          0  37.0  Female               Diploma   \n",
              "4           UK          0  66.0  Female                Degree   \n",
              "..         ...        ...   ...     ...                   ...   \n",
              "696  Australia          0  56.0  Female     Completed year 10   \n",
              "697  Australia          0  38.0  Female     Completed year 10   \n",
              "698  Australia          0  24.0  Female               Diploma   \n",
              "699  Australia          0  50.0    Male  Post-graduate degree   \n",
              "700  Australia          0  32.0    Male                Degree   \n",
              "\n",
              "            Income_AUD   Income  AdultWhales YoungWhales  Max_wtp   wtp  \\\n",
              "0    $60,001 - $70,000  65000.5            2         Yes      0.0  Less   \n",
              "1    Less than $20,000  10000.0            6          No      0.0  More   \n",
              "2    More than $70,000  85000.5            7          No      0.0  More   \n",
              "3    $20,001 - $30,000  25000.5            4         Yes      0.0  More   \n",
              "4                  NaN      NaN            6          No      0.0  More   \n",
              "..                 ...      ...          ...         ...      ...   ...   \n",
              "696  Less than $20,000  10000.0            0         Yes      1.0  Same   \n",
              "697  $30,001 - $40,000  35000.5            6         Yes      2.0  Same   \n",
              "698  $20,001 - $30,000  25000.5            6          No      2.0  Less   \n",
              "699  $30,001 - $40,000  35000.5            2         Yes      5.0  Same   \n",
              "700  More than $70,000  85000.5            8         Yes      0.0  Same   \n",
              "\n",
              "     PayConserve  \n",
              "0              1  \n",
              "1              0  \n",
              "2              0  \n",
              "3              1  \n",
              "4              0  \n",
              "..           ...  \n",
              "696            1  \n",
              "697            1  \n",
              "698            1  \n",
              "699            1  \n",
              "700            0  \n",
              "\n",
              "[701 rows x 12 columns]"
            ],
            "text/html": [
              "\n",
              "  <div id=\"df-90d1b928-49cd-4c12-9062-0de384fc162a\">\n",
              "    <div class=\"colab-df-container\">\n",
              "      <div>\n",
              "<style scoped>\n",
              "    .dataframe tbody tr th:only-of-type {\n",
              "        vertical-align: middle;\n",
              "    }\n",
              "\n",
              "    .dataframe tbody tr th {\n",
              "        vertical-align: top;\n",
              "    }\n",
              "\n",
              "    .dataframe thead th {\n",
              "        text-align: right;\n",
              "    }\n",
              "</style>\n",
              "<table border=\"1\" class=\"dataframe\">\n",
              "  <thead>\n",
              "    <tr style=\"text-align: right;\">\n",
              "      <th></th>\n",
              "      <th>Country</th>\n",
              "      <th>SeeWhales</th>\n",
              "      <th>Age</th>\n",
              "      <th>Gender</th>\n",
              "      <th>Education</th>\n",
              "      <th>Income_AUD</th>\n",
              "      <th>Income</th>\n",
              "      <th>AdultWhales</th>\n",
              "      <th>YoungWhales</th>\n",
              "      <th>Max_wtp</th>\n",
              "      <th>wtp</th>\n",
              "      <th>PayConserve</th>\n",
              "    </tr>\n",
              "  </thead>\n",
              "  <tbody>\n",
              "    <tr>\n",
              "      <th>0</th>\n",
              "      <td>Australia</td>\n",
              "      <td>1</td>\n",
              "      <td>31.0</td>\n",
              "      <td>Female</td>\n",
              "      <td>Diploma</td>\n",
              "      <td>$60,001 - $70,000</td>\n",
              "      <td>65000.5</td>\n",
              "      <td>2</td>\n",
              "      <td>Yes</td>\n",
              "      <td>0.0</td>\n",
              "      <td>Less</td>\n",
              "      <td>1</td>\n",
              "    </tr>\n",
              "    <tr>\n",
              "      <th>1</th>\n",
              "      <td>UK</td>\n",
              "      <td>0</td>\n",
              "      <td>22.0</td>\n",
              "      <td>Female</td>\n",
              "      <td>Degree</td>\n",
              "      <td>Less than $20,000</td>\n",
              "      <td>10000.0</td>\n",
              "      <td>6</td>\n",
              "      <td>No</td>\n",
              "      <td>0.0</td>\n",
              "      <td>More</td>\n",
              "      <td>0</td>\n",
              "    </tr>\n",
              "    <tr>\n",
              "      <th>2</th>\n",
              "      <td>USA</td>\n",
              "      <td>0</td>\n",
              "      <td>46.0</td>\n",
              "      <td>Female</td>\n",
              "      <td>Degree</td>\n",
              "      <td>More than $70,000</td>\n",
              "      <td>85000.5</td>\n",
              "      <td>7</td>\n",
              "      <td>No</td>\n",
              "      <td>0.0</td>\n",
              "      <td>More</td>\n",
              "      <td>0</td>\n",
              "    </tr>\n",
              "    <tr>\n",
              "      <th>3</th>\n",
              "      <td>France</td>\n",
              "      <td>0</td>\n",
              "      <td>37.0</td>\n",
              "      <td>Female</td>\n",
              "      <td>Diploma</td>\n",
              "      <td>$20,001 - $30,000</td>\n",
              "      <td>25000.5</td>\n",
              "      <td>4</td>\n",
              "      <td>Yes</td>\n",
              "      <td>0.0</td>\n",
              "      <td>More</td>\n",
              "      <td>1</td>\n",
              "    </tr>\n",
              "    <tr>\n",
              "      <th>4</th>\n",
              "      <td>UK</td>\n",
              "      <td>0</td>\n",
              "      <td>66.0</td>\n",
              "      <td>Female</td>\n",
              "      <td>Degree</td>\n",
              "      <td>NaN</td>\n",
              "      <td>NaN</td>\n",
              "      <td>6</td>\n",
              "      <td>No</td>\n",
              "      <td>0.0</td>\n",
              "      <td>More</td>\n",
              "      <td>0</td>\n",
              "    </tr>\n",
              "    <tr>\n",
              "      <th>...</th>\n",
              "      <td>...</td>\n",
              "      <td>...</td>\n",
              "      <td>...</td>\n",
              "      <td>...</td>\n",
              "      <td>...</td>\n",
              "      <td>...</td>\n",
              "      <td>...</td>\n",
              "      <td>...</td>\n",
              "      <td>...</td>\n",
              "      <td>...</td>\n",
              "      <td>...</td>\n",
              "      <td>...</td>\n",
              "    </tr>\n",
              "    <tr>\n",
              "      <th>696</th>\n",
              "      <td>Australia</td>\n",
              "      <td>0</td>\n",
              "      <td>56.0</td>\n",
              "      <td>Female</td>\n",
              "      <td>Completed year 10</td>\n",
              "      <td>Less than $20,000</td>\n",
              "      <td>10000.0</td>\n",
              "      <td>0</td>\n",
              "      <td>Yes</td>\n",
              "      <td>1.0</td>\n",
              "      <td>Same</td>\n",
              "      <td>1</td>\n",
              "    </tr>\n",
              "    <tr>\n",
              "      <th>697</th>\n",
              "      <td>Australia</td>\n",
              "      <td>0</td>\n",
              "      <td>38.0</td>\n",
              "      <td>Female</td>\n",
              "      <td>Completed year 10</td>\n",
              "      <td>$30,001 - $40,000</td>\n",
              "      <td>35000.5</td>\n",
              "      <td>6</td>\n",
              "      <td>Yes</td>\n",
              "      <td>2.0</td>\n",
              "      <td>Same</td>\n",
              "      <td>1</td>\n",
              "    </tr>\n",
              "    <tr>\n",
              "      <th>698</th>\n",
              "      <td>Australia</td>\n",
              "      <td>0</td>\n",
              "      <td>24.0</td>\n",
              "      <td>Female</td>\n",
              "      <td>Diploma</td>\n",
              "      <td>$20,001 - $30,000</td>\n",
              "      <td>25000.5</td>\n",
              "      <td>6</td>\n",
              "      <td>No</td>\n",
              "      <td>2.0</td>\n",
              "      <td>Less</td>\n",
              "      <td>1</td>\n",
              "    </tr>\n",
              "    <tr>\n",
              "      <th>699</th>\n",
              "      <td>Australia</td>\n",
              "      <td>0</td>\n",
              "      <td>50.0</td>\n",
              "      <td>Male</td>\n",
              "      <td>Post-graduate degree</td>\n",
              "      <td>$30,001 - $40,000</td>\n",
              "      <td>35000.5</td>\n",
              "      <td>2</td>\n",
              "      <td>Yes</td>\n",
              "      <td>5.0</td>\n",
              "      <td>Same</td>\n",
              "      <td>1</td>\n",
              "    </tr>\n",
              "    <tr>\n",
              "      <th>700</th>\n",
              "      <td>Australia</td>\n",
              "      <td>0</td>\n",
              "      <td>32.0</td>\n",
              "      <td>Male</td>\n",
              "      <td>Degree</td>\n",
              "      <td>More than $70,000</td>\n",
              "      <td>85000.5</td>\n",
              "      <td>8</td>\n",
              "      <td>Yes</td>\n",
              "      <td>0.0</td>\n",
              "      <td>Same</td>\n",
              "      <td>0</td>\n",
              "    </tr>\n",
              "  </tbody>\n",
              "</table>\n",
              "<p>701 rows × 12 columns</p>\n",
              "</div>\n",
              "      <button class=\"colab-df-convert\" onclick=\"convertToInteractive('df-90d1b928-49cd-4c12-9062-0de384fc162a')\"\n",
              "              title=\"Convert this dataframe to an interactive table.\"\n",
              "              style=\"display:none;\">\n",
              "        \n",
              "  <svg xmlns=\"http://www.w3.org/2000/svg\" height=\"24px\"viewBox=\"0 0 24 24\"\n",
              "       width=\"24px\">\n",
              "    <path d=\"M0 0h24v24H0V0z\" fill=\"none\"/>\n",
              "    <path d=\"M18.56 5.44l.94 2.06.94-2.06 2.06-.94-2.06-.94-.94-2.06-.94 2.06-2.06.94zm-11 1L8.5 8.5l.94-2.06 2.06-.94-2.06-.94L8.5 2.5l-.94 2.06-2.06.94zm10 10l.94 2.06.94-2.06 2.06-.94-2.06-.94-.94-2.06-.94 2.06-2.06.94z\"/><path d=\"M17.41 7.96l-1.37-1.37c-.4-.4-.92-.59-1.43-.59-.52 0-1.04.2-1.43.59L10.3 9.45l-7.72 7.72c-.78.78-.78 2.05 0 2.83L4 21.41c.39.39.9.59 1.41.59.51 0 1.02-.2 1.41-.59l7.78-7.78 2.81-2.81c.8-.78.8-2.07 0-2.86zM5.41 20L4 18.59l7.72-7.72 1.47 1.35L5.41 20z\"/>\n",
              "  </svg>\n",
              "      </button>\n",
              "      \n",
              "  <style>\n",
              "    .colab-df-container {\n",
              "      display:flex;\n",
              "      flex-wrap:wrap;\n",
              "      gap: 12px;\n",
              "    }\n",
              "\n",
              "    .colab-df-convert {\n",
              "      background-color: #E8F0FE;\n",
              "      border: none;\n",
              "      border-radius: 50%;\n",
              "      cursor: pointer;\n",
              "      display: none;\n",
              "      fill: #1967D2;\n",
              "      height: 32px;\n",
              "      padding: 0 0 0 0;\n",
              "      width: 32px;\n",
              "    }\n",
              "\n",
              "    .colab-df-convert:hover {\n",
              "      background-color: #E2EBFA;\n",
              "      box-shadow: 0px 1px 2px rgba(60, 64, 67, 0.3), 0px 1px 3px 1px rgba(60, 64, 67, 0.15);\n",
              "      fill: #174EA6;\n",
              "    }\n",
              "\n",
              "    [theme=dark] .colab-df-convert {\n",
              "      background-color: #3B4455;\n",
              "      fill: #D2E3FC;\n",
              "    }\n",
              "\n",
              "    [theme=dark] .colab-df-convert:hover {\n",
              "      background-color: #434B5C;\n",
              "      box-shadow: 0px 1px 3px 1px rgba(0, 0, 0, 0.15);\n",
              "      filter: drop-shadow(0px 1px 2px rgba(0, 0, 0, 0.3));\n",
              "      fill: #FFFFFF;\n",
              "    }\n",
              "  </style>\n",
              "\n",
              "      <script>\n",
              "        const buttonEl =\n",
              "          document.querySelector('#df-90d1b928-49cd-4c12-9062-0de384fc162a button.colab-df-convert');\n",
              "        buttonEl.style.display =\n",
              "          google.colab.kernel.accessAllowed ? 'block' : 'none';\n",
              "\n",
              "        async function convertToInteractive(key) {\n",
              "          const element = document.querySelector('#df-90d1b928-49cd-4c12-9062-0de384fc162a');\n",
              "          const dataTable =\n",
              "            await google.colab.kernel.invokeFunction('convertToInteractive',\n",
              "                                                     [key], {});\n",
              "          if (!dataTable) return;\n",
              "\n",
              "          const docLinkHtml = 'Like what you see? Visit the ' +\n",
              "            '<a target=\"_blank\" href=https://colab.research.google.com/notebooks/data_table.ipynb>data table notebook</a>'\n",
              "            + ' to learn more about interactive tables.';\n",
              "          element.innerHTML = '';\n",
              "          dataTable['output_type'] = 'display_data';\n",
              "          await google.colab.output.renderOutput(dataTable, element);\n",
              "          const docLink = document.createElement('div');\n",
              "          docLink.innerHTML = docLinkHtml;\n",
              "          element.appendChild(docLink);\n",
              "        }\n",
              "      </script>\n",
              "    </div>\n",
              "  </div>\n",
              "  "
            ]
          },
          "metadata": {},
          "execution_count": 7
        }
      ]
    },
    {
      "cell_type": "code",
      "source": [
        "df.info()"
      ],
      "metadata": {
        "colab": {
          "base_uri": "https://localhost:8080/"
        },
        "id": "79qfFTrDhmmv",
        "outputId": "63ce4604-c6fb-4c93-92ef-a075a03a5f2a"
      },
      "execution_count": 8,
      "outputs": [
        {
          "output_type": "stream",
          "name": "stdout",
          "text": [
            "<class 'pandas.core.frame.DataFrame'>\n",
            "RangeIndex: 701 entries, 0 to 700\n",
            "Data columns (total 12 columns):\n",
            " #   Column       Non-Null Count  Dtype  \n",
            "---  ------       --------------  -----  \n",
            " 0   Country      701 non-null    object \n",
            " 1   SeeWhales    701 non-null    int64  \n",
            " 2   Age          691 non-null    float64\n",
            " 3   Gender       701 non-null    object \n",
            " 4   Education    701 non-null    object \n",
            " 5   Income_AUD   674 non-null    object \n",
            " 6   Income       674 non-null    float64\n",
            " 7   AdultWhales  701 non-null    int64  \n",
            " 8   YoungWhales  701 non-null    object \n",
            " 9   Max_wtp      701 non-null    float64\n",
            " 10  wtp          701 non-null    object \n",
            " 11  PayConserve  701 non-null    int64  \n",
            "dtypes: float64(3), int64(3), object(6)\n",
            "memory usage: 65.8+ KB\n"
          ]
        }
      ]
    },
    {
      "cell_type": "code",
      "source": [
        "df.head(10)"
      ],
      "metadata": {
        "colab": {
          "base_uri": "https://localhost:8080/",
          "height": 363
        },
        "id": "oLGPHd0siXOy",
        "outputId": "389f0aa2-13c8-43aa-99e7-f2f0ec2ebfd5"
      },
      "execution_count": 9,
      "outputs": [
        {
          "output_type": "execute_result",
          "data": {
            "text/plain": [
              "     Country  SeeWhales   Age  Gender             Education  \\\n",
              "0  Australia          1  31.0  Female               Diploma   \n",
              "1         UK          0  22.0  Female                Degree   \n",
              "2        USA          0  46.0  Female                Degree   \n",
              "3     France          0  37.0  Female               Diploma   \n",
              "4         UK          0  66.0  Female                Degree   \n",
              "5  Australia          0  65.0    Male  Post-graduate degree   \n",
              "6  Australia          0  49.0    Male  Post-graduate degree   \n",
              "7         UK          0  38.0  Female  Post-graduate degree   \n",
              "8  Australia          0  54.0    Male     Completed year 12   \n",
              "9  Australia          0  59.0  Female     Completed year 10   \n",
              "\n",
              "          Income_AUD   Income  AdultWhales YoungWhales  Max_wtp   wtp  \\\n",
              "0  $60,001 - $70,000  65000.5            2         Yes      0.0  Less   \n",
              "1  Less than $20,000  10000.0            6          No      0.0  More   \n",
              "2  More than $70,000  85000.5            7          No      0.0  More   \n",
              "3  $20,001 - $30,000  25000.5            4         Yes      0.0  More   \n",
              "4                NaN      NaN            6          No      0.0  More   \n",
              "5  $40,001 - $50,000  45000.5            3         Yes      1.0  Same   \n",
              "6  $20,001 - $30,000  25000.5            2          No      2.0  Less   \n",
              "7  More than $70,000  85000.5            0         Yes      0.0  More   \n",
              "8  More than $70,000  85000.5            6         Yes      5.0  Same   \n",
              "9  Less than $20,000  10000.0            4          No      0.0  More   \n",
              "\n",
              "   PayConserve  \n",
              "0            1  \n",
              "1            0  \n",
              "2            0  \n",
              "3            1  \n",
              "4            0  \n",
              "5            1  \n",
              "6            1  \n",
              "7            0  \n",
              "8            1  \n",
              "9            0  "
            ],
            "text/html": [
              "\n",
              "  <div id=\"df-1d57e1e8-0de1-4053-8020-8e2d651b914e\">\n",
              "    <div class=\"colab-df-container\">\n",
              "      <div>\n",
              "<style scoped>\n",
              "    .dataframe tbody tr th:only-of-type {\n",
              "        vertical-align: middle;\n",
              "    }\n",
              "\n",
              "    .dataframe tbody tr th {\n",
              "        vertical-align: top;\n",
              "    }\n",
              "\n",
              "    .dataframe thead th {\n",
              "        text-align: right;\n",
              "    }\n",
              "</style>\n",
              "<table border=\"1\" class=\"dataframe\">\n",
              "  <thead>\n",
              "    <tr style=\"text-align: right;\">\n",
              "      <th></th>\n",
              "      <th>Country</th>\n",
              "      <th>SeeWhales</th>\n",
              "      <th>Age</th>\n",
              "      <th>Gender</th>\n",
              "      <th>Education</th>\n",
              "      <th>Income_AUD</th>\n",
              "      <th>Income</th>\n",
              "      <th>AdultWhales</th>\n",
              "      <th>YoungWhales</th>\n",
              "      <th>Max_wtp</th>\n",
              "      <th>wtp</th>\n",
              "      <th>PayConserve</th>\n",
              "    </tr>\n",
              "  </thead>\n",
              "  <tbody>\n",
              "    <tr>\n",
              "      <th>0</th>\n",
              "      <td>Australia</td>\n",
              "      <td>1</td>\n",
              "      <td>31.0</td>\n",
              "      <td>Female</td>\n",
              "      <td>Diploma</td>\n",
              "      <td>$60,001 - $70,000</td>\n",
              "      <td>65000.5</td>\n",
              "      <td>2</td>\n",
              "      <td>Yes</td>\n",
              "      <td>0.0</td>\n",
              "      <td>Less</td>\n",
              "      <td>1</td>\n",
              "    </tr>\n",
              "    <tr>\n",
              "      <th>1</th>\n",
              "      <td>UK</td>\n",
              "      <td>0</td>\n",
              "      <td>22.0</td>\n",
              "      <td>Female</td>\n",
              "      <td>Degree</td>\n",
              "      <td>Less than $20,000</td>\n",
              "      <td>10000.0</td>\n",
              "      <td>6</td>\n",
              "      <td>No</td>\n",
              "      <td>0.0</td>\n",
              "      <td>More</td>\n",
              "      <td>0</td>\n",
              "    </tr>\n",
              "    <tr>\n",
              "      <th>2</th>\n",
              "      <td>USA</td>\n",
              "      <td>0</td>\n",
              "      <td>46.0</td>\n",
              "      <td>Female</td>\n",
              "      <td>Degree</td>\n",
              "      <td>More than $70,000</td>\n",
              "      <td>85000.5</td>\n",
              "      <td>7</td>\n",
              "      <td>No</td>\n",
              "      <td>0.0</td>\n",
              "      <td>More</td>\n",
              "      <td>0</td>\n",
              "    </tr>\n",
              "    <tr>\n",
              "      <th>3</th>\n",
              "      <td>France</td>\n",
              "      <td>0</td>\n",
              "      <td>37.0</td>\n",
              "      <td>Female</td>\n",
              "      <td>Diploma</td>\n",
              "      <td>$20,001 - $30,000</td>\n",
              "      <td>25000.5</td>\n",
              "      <td>4</td>\n",
              "      <td>Yes</td>\n",
              "      <td>0.0</td>\n",
              "      <td>More</td>\n",
              "      <td>1</td>\n",
              "    </tr>\n",
              "    <tr>\n",
              "      <th>4</th>\n",
              "      <td>UK</td>\n",
              "      <td>0</td>\n",
              "      <td>66.0</td>\n",
              "      <td>Female</td>\n",
              "      <td>Degree</td>\n",
              "      <td>NaN</td>\n",
              "      <td>NaN</td>\n",
              "      <td>6</td>\n",
              "      <td>No</td>\n",
              "      <td>0.0</td>\n",
              "      <td>More</td>\n",
              "      <td>0</td>\n",
              "    </tr>\n",
              "    <tr>\n",
              "      <th>5</th>\n",
              "      <td>Australia</td>\n",
              "      <td>0</td>\n",
              "      <td>65.0</td>\n",
              "      <td>Male</td>\n",
              "      <td>Post-graduate degree</td>\n",
              "      <td>$40,001 - $50,000</td>\n",
              "      <td>45000.5</td>\n",
              "      <td>3</td>\n",
              "      <td>Yes</td>\n",
              "      <td>1.0</td>\n",
              "      <td>Same</td>\n",
              "      <td>1</td>\n",
              "    </tr>\n",
              "    <tr>\n",
              "      <th>6</th>\n",
              "      <td>Australia</td>\n",
              "      <td>0</td>\n",
              "      <td>49.0</td>\n",
              "      <td>Male</td>\n",
              "      <td>Post-graduate degree</td>\n",
              "      <td>$20,001 - $30,000</td>\n",
              "      <td>25000.5</td>\n",
              "      <td>2</td>\n",
              "      <td>No</td>\n",
              "      <td>2.0</td>\n",
              "      <td>Less</td>\n",
              "      <td>1</td>\n",
              "    </tr>\n",
              "    <tr>\n",
              "      <th>7</th>\n",
              "      <td>UK</td>\n",
              "      <td>0</td>\n",
              "      <td>38.0</td>\n",
              "      <td>Female</td>\n",
              "      <td>Post-graduate degree</td>\n",
              "      <td>More than $70,000</td>\n",
              "      <td>85000.5</td>\n",
              "      <td>0</td>\n",
              "      <td>Yes</td>\n",
              "      <td>0.0</td>\n",
              "      <td>More</td>\n",
              "      <td>0</td>\n",
              "    </tr>\n",
              "    <tr>\n",
              "      <th>8</th>\n",
              "      <td>Australia</td>\n",
              "      <td>0</td>\n",
              "      <td>54.0</td>\n",
              "      <td>Male</td>\n",
              "      <td>Completed year 12</td>\n",
              "      <td>More than $70,000</td>\n",
              "      <td>85000.5</td>\n",
              "      <td>6</td>\n",
              "      <td>Yes</td>\n",
              "      <td>5.0</td>\n",
              "      <td>Same</td>\n",
              "      <td>1</td>\n",
              "    </tr>\n",
              "    <tr>\n",
              "      <th>9</th>\n",
              "      <td>Australia</td>\n",
              "      <td>0</td>\n",
              "      <td>59.0</td>\n",
              "      <td>Female</td>\n",
              "      <td>Completed year 10</td>\n",
              "      <td>Less than $20,000</td>\n",
              "      <td>10000.0</td>\n",
              "      <td>4</td>\n",
              "      <td>No</td>\n",
              "      <td>0.0</td>\n",
              "      <td>More</td>\n",
              "      <td>0</td>\n",
              "    </tr>\n",
              "  </tbody>\n",
              "</table>\n",
              "</div>\n",
              "      <button class=\"colab-df-convert\" onclick=\"convertToInteractive('df-1d57e1e8-0de1-4053-8020-8e2d651b914e')\"\n",
              "              title=\"Convert this dataframe to an interactive table.\"\n",
              "              style=\"display:none;\">\n",
              "        \n",
              "  <svg xmlns=\"http://www.w3.org/2000/svg\" height=\"24px\"viewBox=\"0 0 24 24\"\n",
              "       width=\"24px\">\n",
              "    <path d=\"M0 0h24v24H0V0z\" fill=\"none\"/>\n",
              "    <path d=\"M18.56 5.44l.94 2.06.94-2.06 2.06-.94-2.06-.94-.94-2.06-.94 2.06-2.06.94zm-11 1L8.5 8.5l.94-2.06 2.06-.94-2.06-.94L8.5 2.5l-.94 2.06-2.06.94zm10 10l.94 2.06.94-2.06 2.06-.94-2.06-.94-.94-2.06-.94 2.06-2.06.94z\"/><path d=\"M17.41 7.96l-1.37-1.37c-.4-.4-.92-.59-1.43-.59-.52 0-1.04.2-1.43.59L10.3 9.45l-7.72 7.72c-.78.78-.78 2.05 0 2.83L4 21.41c.39.39.9.59 1.41.59.51 0 1.02-.2 1.41-.59l7.78-7.78 2.81-2.81c.8-.78.8-2.07 0-2.86zM5.41 20L4 18.59l7.72-7.72 1.47 1.35L5.41 20z\"/>\n",
              "  </svg>\n",
              "      </button>\n",
              "      \n",
              "  <style>\n",
              "    .colab-df-container {\n",
              "      display:flex;\n",
              "      flex-wrap:wrap;\n",
              "      gap: 12px;\n",
              "    }\n",
              "\n",
              "    .colab-df-convert {\n",
              "      background-color: #E8F0FE;\n",
              "      border: none;\n",
              "      border-radius: 50%;\n",
              "      cursor: pointer;\n",
              "      display: none;\n",
              "      fill: #1967D2;\n",
              "      height: 32px;\n",
              "      padding: 0 0 0 0;\n",
              "      width: 32px;\n",
              "    }\n",
              "\n",
              "    .colab-df-convert:hover {\n",
              "      background-color: #E2EBFA;\n",
              "      box-shadow: 0px 1px 2px rgba(60, 64, 67, 0.3), 0px 1px 3px 1px rgba(60, 64, 67, 0.15);\n",
              "      fill: #174EA6;\n",
              "    }\n",
              "\n",
              "    [theme=dark] .colab-df-convert {\n",
              "      background-color: #3B4455;\n",
              "      fill: #D2E3FC;\n",
              "    }\n",
              "\n",
              "    [theme=dark] .colab-df-convert:hover {\n",
              "      background-color: #434B5C;\n",
              "      box-shadow: 0px 1px 3px 1px rgba(0, 0, 0, 0.15);\n",
              "      filter: drop-shadow(0px 1px 2px rgba(0, 0, 0, 0.3));\n",
              "      fill: #FFFFFF;\n",
              "    }\n",
              "  </style>\n",
              "\n",
              "      <script>\n",
              "        const buttonEl =\n",
              "          document.querySelector('#df-1d57e1e8-0de1-4053-8020-8e2d651b914e button.colab-df-convert');\n",
              "        buttonEl.style.display =\n",
              "          google.colab.kernel.accessAllowed ? 'block' : 'none';\n",
              "\n",
              "        async function convertToInteractive(key) {\n",
              "          const element = document.querySelector('#df-1d57e1e8-0de1-4053-8020-8e2d651b914e');\n",
              "          const dataTable =\n",
              "            await google.colab.kernel.invokeFunction('convertToInteractive',\n",
              "                                                     [key], {});\n",
              "          if (!dataTable) return;\n",
              "\n",
              "          const docLinkHtml = 'Like what you see? Visit the ' +\n",
              "            '<a target=\"_blank\" href=https://colab.research.google.com/notebooks/data_table.ipynb>data table notebook</a>'\n",
              "            + ' to learn more about interactive tables.';\n",
              "          element.innerHTML = '';\n",
              "          dataTable['output_type'] = 'display_data';\n",
              "          await google.colab.output.renderOutput(dataTable, element);\n",
              "          const docLink = document.createElement('div');\n",
              "          docLink.innerHTML = docLinkHtml;\n",
              "          element.appendChild(docLink);\n",
              "        }\n",
              "      </script>\n",
              "    </div>\n",
              "  </div>\n",
              "  "
            ]
          },
          "metadata": {},
          "execution_count": 9
        }
      ]
    },
    {
      "cell_type": "markdown",
      "source": [
        "### De los primeros 10 datos tan solo se observa que tan solo un país vio una ballena"
      ],
      "metadata": {
        "id": "jN8ulJyqkI8J"
      }
    },
    {
      "cell_type": "code",
      "source": [
        "df.tail(10)"
      ],
      "metadata": {
        "colab": {
          "base_uri": "https://localhost:8080/",
          "height": 363
        },
        "id": "dX8CS6DXiZBh",
        "outputId": "da54d739-396b-4561-93ca-16c1afc68bb1"
      },
      "execution_count": 10,
      "outputs": [
        {
          "output_type": "execute_result",
          "data": {
            "text/plain": [
              "             Country  SeeWhales   Age  Gender             Education  \\\n",
              "691            Italy          0  58.0  Female               Diploma   \n",
              "692        Australia          0  53.0  Female  Post-graduate degree   \n",
              "693        Australia          0  34.0  Female     Completed year 10   \n",
              "694  The Netherlands          0  31.0  Female                Degree   \n",
              "695        Australia          0  40.0  Female     Completed year 12   \n",
              "696        Australia          0  56.0  Female     Completed year 10   \n",
              "697        Australia          0  38.0  Female     Completed year 10   \n",
              "698        Australia          0  24.0  Female               Diploma   \n",
              "699        Australia          0  50.0    Male  Post-graduate degree   \n",
              "700        Australia          0  32.0    Male                Degree   \n",
              "\n",
              "            Income_AUD   Income  AdultWhales YoungWhales  Max_wtp   wtp  \\\n",
              "691                NaN      NaN            8         Yes      0.0  Less   \n",
              "692  More than $70,000  85000.5            4         Yes      0.0  Less   \n",
              "693  $50,001 - $60,000  55000.5            4         Yes      5.0  Less   \n",
              "694  $50,001 - $60,000  55000.5            4          No      0.0  More   \n",
              "695  $50,001 - $60,000  55000.5           15          No     10.0  Same   \n",
              "696  Less than $20,000  10000.0            0         Yes      1.0  Same   \n",
              "697  $30,001 - $40,000  35000.5            6         Yes      2.0  Same   \n",
              "698  $20,001 - $30,000  25000.5            6          No      2.0  Less   \n",
              "699  $30,001 - $40,000  35000.5            2         Yes      5.0  Same   \n",
              "700  More than $70,000  85000.5            8         Yes      0.0  Same   \n",
              "\n",
              "     PayConserve  \n",
              "691            1  \n",
              "692            1  \n",
              "693            1  \n",
              "694            1  \n",
              "695            1  \n",
              "696            1  \n",
              "697            1  \n",
              "698            1  \n",
              "699            1  \n",
              "700            0  "
            ],
            "text/html": [
              "\n",
              "  <div id=\"df-2123e0c8-a24e-4bfb-8ef3-7c7ac07b903b\">\n",
              "    <div class=\"colab-df-container\">\n",
              "      <div>\n",
              "<style scoped>\n",
              "    .dataframe tbody tr th:only-of-type {\n",
              "        vertical-align: middle;\n",
              "    }\n",
              "\n",
              "    .dataframe tbody tr th {\n",
              "        vertical-align: top;\n",
              "    }\n",
              "\n",
              "    .dataframe thead th {\n",
              "        text-align: right;\n",
              "    }\n",
              "</style>\n",
              "<table border=\"1\" class=\"dataframe\">\n",
              "  <thead>\n",
              "    <tr style=\"text-align: right;\">\n",
              "      <th></th>\n",
              "      <th>Country</th>\n",
              "      <th>SeeWhales</th>\n",
              "      <th>Age</th>\n",
              "      <th>Gender</th>\n",
              "      <th>Education</th>\n",
              "      <th>Income_AUD</th>\n",
              "      <th>Income</th>\n",
              "      <th>AdultWhales</th>\n",
              "      <th>YoungWhales</th>\n",
              "      <th>Max_wtp</th>\n",
              "      <th>wtp</th>\n",
              "      <th>PayConserve</th>\n",
              "    </tr>\n",
              "  </thead>\n",
              "  <tbody>\n",
              "    <tr>\n",
              "      <th>691</th>\n",
              "      <td>Italy</td>\n",
              "      <td>0</td>\n",
              "      <td>58.0</td>\n",
              "      <td>Female</td>\n",
              "      <td>Diploma</td>\n",
              "      <td>NaN</td>\n",
              "      <td>NaN</td>\n",
              "      <td>8</td>\n",
              "      <td>Yes</td>\n",
              "      <td>0.0</td>\n",
              "      <td>Less</td>\n",
              "      <td>1</td>\n",
              "    </tr>\n",
              "    <tr>\n",
              "      <th>692</th>\n",
              "      <td>Australia</td>\n",
              "      <td>0</td>\n",
              "      <td>53.0</td>\n",
              "      <td>Female</td>\n",
              "      <td>Post-graduate degree</td>\n",
              "      <td>More than $70,000</td>\n",
              "      <td>85000.5</td>\n",
              "      <td>4</td>\n",
              "      <td>Yes</td>\n",
              "      <td>0.0</td>\n",
              "      <td>Less</td>\n",
              "      <td>1</td>\n",
              "    </tr>\n",
              "    <tr>\n",
              "      <th>693</th>\n",
              "      <td>Australia</td>\n",
              "      <td>0</td>\n",
              "      <td>34.0</td>\n",
              "      <td>Female</td>\n",
              "      <td>Completed year 10</td>\n",
              "      <td>$50,001 - $60,000</td>\n",
              "      <td>55000.5</td>\n",
              "      <td>4</td>\n",
              "      <td>Yes</td>\n",
              "      <td>5.0</td>\n",
              "      <td>Less</td>\n",
              "      <td>1</td>\n",
              "    </tr>\n",
              "    <tr>\n",
              "      <th>694</th>\n",
              "      <td>The Netherlands</td>\n",
              "      <td>0</td>\n",
              "      <td>31.0</td>\n",
              "      <td>Female</td>\n",
              "      <td>Degree</td>\n",
              "      <td>$50,001 - $60,000</td>\n",
              "      <td>55000.5</td>\n",
              "      <td>4</td>\n",
              "      <td>No</td>\n",
              "      <td>0.0</td>\n",
              "      <td>More</td>\n",
              "      <td>1</td>\n",
              "    </tr>\n",
              "    <tr>\n",
              "      <th>695</th>\n",
              "      <td>Australia</td>\n",
              "      <td>0</td>\n",
              "      <td>40.0</td>\n",
              "      <td>Female</td>\n",
              "      <td>Completed year 12</td>\n",
              "      <td>$50,001 - $60,000</td>\n",
              "      <td>55000.5</td>\n",
              "      <td>15</td>\n",
              "      <td>No</td>\n",
              "      <td>10.0</td>\n",
              "      <td>Same</td>\n",
              "      <td>1</td>\n",
              "    </tr>\n",
              "    <tr>\n",
              "      <th>696</th>\n",
              "      <td>Australia</td>\n",
              "      <td>0</td>\n",
              "      <td>56.0</td>\n",
              "      <td>Female</td>\n",
              "      <td>Completed year 10</td>\n",
              "      <td>Less than $20,000</td>\n",
              "      <td>10000.0</td>\n",
              "      <td>0</td>\n",
              "      <td>Yes</td>\n",
              "      <td>1.0</td>\n",
              "      <td>Same</td>\n",
              "      <td>1</td>\n",
              "    </tr>\n",
              "    <tr>\n",
              "      <th>697</th>\n",
              "      <td>Australia</td>\n",
              "      <td>0</td>\n",
              "      <td>38.0</td>\n",
              "      <td>Female</td>\n",
              "      <td>Completed year 10</td>\n",
              "      <td>$30,001 - $40,000</td>\n",
              "      <td>35000.5</td>\n",
              "      <td>6</td>\n",
              "      <td>Yes</td>\n",
              "      <td>2.0</td>\n",
              "      <td>Same</td>\n",
              "      <td>1</td>\n",
              "    </tr>\n",
              "    <tr>\n",
              "      <th>698</th>\n",
              "      <td>Australia</td>\n",
              "      <td>0</td>\n",
              "      <td>24.0</td>\n",
              "      <td>Female</td>\n",
              "      <td>Diploma</td>\n",
              "      <td>$20,001 - $30,000</td>\n",
              "      <td>25000.5</td>\n",
              "      <td>6</td>\n",
              "      <td>No</td>\n",
              "      <td>2.0</td>\n",
              "      <td>Less</td>\n",
              "      <td>1</td>\n",
              "    </tr>\n",
              "    <tr>\n",
              "      <th>699</th>\n",
              "      <td>Australia</td>\n",
              "      <td>0</td>\n",
              "      <td>50.0</td>\n",
              "      <td>Male</td>\n",
              "      <td>Post-graduate degree</td>\n",
              "      <td>$30,001 - $40,000</td>\n",
              "      <td>35000.5</td>\n",
              "      <td>2</td>\n",
              "      <td>Yes</td>\n",
              "      <td>5.0</td>\n",
              "      <td>Same</td>\n",
              "      <td>1</td>\n",
              "    </tr>\n",
              "    <tr>\n",
              "      <th>700</th>\n",
              "      <td>Australia</td>\n",
              "      <td>0</td>\n",
              "      <td>32.0</td>\n",
              "      <td>Male</td>\n",
              "      <td>Degree</td>\n",
              "      <td>More than $70,000</td>\n",
              "      <td>85000.5</td>\n",
              "      <td>8</td>\n",
              "      <td>Yes</td>\n",
              "      <td>0.0</td>\n",
              "      <td>Same</td>\n",
              "      <td>0</td>\n",
              "    </tr>\n",
              "  </tbody>\n",
              "</table>\n",
              "</div>\n",
              "      <button class=\"colab-df-convert\" onclick=\"convertToInteractive('df-2123e0c8-a24e-4bfb-8ef3-7c7ac07b903b')\"\n",
              "              title=\"Convert this dataframe to an interactive table.\"\n",
              "              style=\"display:none;\">\n",
              "        \n",
              "  <svg xmlns=\"http://www.w3.org/2000/svg\" height=\"24px\"viewBox=\"0 0 24 24\"\n",
              "       width=\"24px\">\n",
              "    <path d=\"M0 0h24v24H0V0z\" fill=\"none\"/>\n",
              "    <path d=\"M18.56 5.44l.94 2.06.94-2.06 2.06-.94-2.06-.94-.94-2.06-.94 2.06-2.06.94zm-11 1L8.5 8.5l.94-2.06 2.06-.94-2.06-.94L8.5 2.5l-.94 2.06-2.06.94zm10 10l.94 2.06.94-2.06 2.06-.94-2.06-.94-.94-2.06-.94 2.06-2.06.94z\"/><path d=\"M17.41 7.96l-1.37-1.37c-.4-.4-.92-.59-1.43-.59-.52 0-1.04.2-1.43.59L10.3 9.45l-7.72 7.72c-.78.78-.78 2.05 0 2.83L4 21.41c.39.39.9.59 1.41.59.51 0 1.02-.2 1.41-.59l7.78-7.78 2.81-2.81c.8-.78.8-2.07 0-2.86zM5.41 20L4 18.59l7.72-7.72 1.47 1.35L5.41 20z\"/>\n",
              "  </svg>\n",
              "      </button>\n",
              "      \n",
              "  <style>\n",
              "    .colab-df-container {\n",
              "      display:flex;\n",
              "      flex-wrap:wrap;\n",
              "      gap: 12px;\n",
              "    }\n",
              "\n",
              "    .colab-df-convert {\n",
              "      background-color: #E8F0FE;\n",
              "      border: none;\n",
              "      border-radius: 50%;\n",
              "      cursor: pointer;\n",
              "      display: none;\n",
              "      fill: #1967D2;\n",
              "      height: 32px;\n",
              "      padding: 0 0 0 0;\n",
              "      width: 32px;\n",
              "    }\n",
              "\n",
              "    .colab-df-convert:hover {\n",
              "      background-color: #E2EBFA;\n",
              "      box-shadow: 0px 1px 2px rgba(60, 64, 67, 0.3), 0px 1px 3px 1px rgba(60, 64, 67, 0.15);\n",
              "      fill: #174EA6;\n",
              "    }\n",
              "\n",
              "    [theme=dark] .colab-df-convert {\n",
              "      background-color: #3B4455;\n",
              "      fill: #D2E3FC;\n",
              "    }\n",
              "\n",
              "    [theme=dark] .colab-df-convert:hover {\n",
              "      background-color: #434B5C;\n",
              "      box-shadow: 0px 1px 3px 1px rgba(0, 0, 0, 0.15);\n",
              "      filter: drop-shadow(0px 1px 2px rgba(0, 0, 0, 0.3));\n",
              "      fill: #FFFFFF;\n",
              "    }\n",
              "  </style>\n",
              "\n",
              "      <script>\n",
              "        const buttonEl =\n",
              "          document.querySelector('#df-2123e0c8-a24e-4bfb-8ef3-7c7ac07b903b button.colab-df-convert');\n",
              "        buttonEl.style.display =\n",
              "          google.colab.kernel.accessAllowed ? 'block' : 'none';\n",
              "\n",
              "        async function convertToInteractive(key) {\n",
              "          const element = document.querySelector('#df-2123e0c8-a24e-4bfb-8ef3-7c7ac07b903b');\n",
              "          const dataTable =\n",
              "            await google.colab.kernel.invokeFunction('convertToInteractive',\n",
              "                                                     [key], {});\n",
              "          if (!dataTable) return;\n",
              "\n",
              "          const docLinkHtml = 'Like what you see? Visit the ' +\n",
              "            '<a target=\"_blank\" href=https://colab.research.google.com/notebooks/data_table.ipynb>data table notebook</a>'\n",
              "            + ' to learn more about interactive tables.';\n",
              "          element.innerHTML = '';\n",
              "          dataTable['output_type'] = 'display_data';\n",
              "          await google.colab.output.renderOutput(dataTable, element);\n",
              "          const docLink = document.createElement('div');\n",
              "          docLink.innerHTML = docLinkHtml;\n",
              "          element.appendChild(docLink);\n",
              "        }\n",
              "      </script>\n",
              "    </div>\n",
              "  </div>\n",
              "  "
            ]
          },
          "metadata": {},
          "execution_count": 10
        }
      ]
    },
    {
      "cell_type": "markdown",
      "source": [
        "## 1. Frente a los últimos 10 datos se observa que ninguno vio ballenas.\n",
        "# 2. El 90% de los sijetos estan dispuestos a pagar 2 dolares cada semana durante 10 años para el avistamiento de ballenas a execepcion de uno que no lo haría."
      ],
      "metadata": {
        "id": "b1D1yfcDkhbj"
      }
    },
    {
      "cell_type": "code",
      "source": [
        "df.describe()"
      ],
      "metadata": {
        "colab": {
          "base_uri": "https://localhost:8080/",
          "height": 300
        },
        "id": "N2H9x2C6iaYt",
        "outputId": "e7552f98-d910-4668-9632-368e1a4eb373"
      },
      "execution_count": 11,
      "outputs": [
        {
          "output_type": "execute_result",
          "data": {
            "text/plain": [
              "        SeeWhales         Age        Income  AdultWhales     Max_wtp  \\\n",
              "count  701.000000  691.000000    674.000000   701.000000  701.000000   \n",
              "mean     0.126961   42.918958  44540.456973     6.058488    3.149786   \n",
              "std      0.333168   15.562472  26362.209685     3.779758   18.043962   \n",
              "min      0.000000   13.000000  10000.000000     0.000000    0.000000   \n",
              "25%      0.000000   30.000000  25000.500000     4.000000    0.000000   \n",
              "50%      0.000000   41.000000  35000.500000     6.000000    0.000000   \n",
              "75%      0.000000   54.500000  65000.500000     8.000000    2.000000   \n",
              "max      1.000000   82.000000  85000.500000    30.000000  250.000000   \n",
              "\n",
              "       PayConserve  \n",
              "count   701.000000  \n",
              "mean      0.660485  \n",
              "std       0.473883  \n",
              "min       0.000000  \n",
              "25%       0.000000  \n",
              "50%       1.000000  \n",
              "75%       1.000000  \n",
              "max       1.000000  "
            ],
            "text/html": [
              "\n",
              "  <div id=\"df-a43c17c3-3e1c-4a8d-a775-1cd9414bf400\">\n",
              "    <div class=\"colab-df-container\">\n",
              "      <div>\n",
              "<style scoped>\n",
              "    .dataframe tbody tr th:only-of-type {\n",
              "        vertical-align: middle;\n",
              "    }\n",
              "\n",
              "    .dataframe tbody tr th {\n",
              "        vertical-align: top;\n",
              "    }\n",
              "\n",
              "    .dataframe thead th {\n",
              "        text-align: right;\n",
              "    }\n",
              "</style>\n",
              "<table border=\"1\" class=\"dataframe\">\n",
              "  <thead>\n",
              "    <tr style=\"text-align: right;\">\n",
              "      <th></th>\n",
              "      <th>SeeWhales</th>\n",
              "      <th>Age</th>\n",
              "      <th>Income</th>\n",
              "      <th>AdultWhales</th>\n",
              "      <th>Max_wtp</th>\n",
              "      <th>PayConserve</th>\n",
              "    </tr>\n",
              "  </thead>\n",
              "  <tbody>\n",
              "    <tr>\n",
              "      <th>count</th>\n",
              "      <td>701.000000</td>\n",
              "      <td>691.000000</td>\n",
              "      <td>674.000000</td>\n",
              "      <td>701.000000</td>\n",
              "      <td>701.000000</td>\n",
              "      <td>701.000000</td>\n",
              "    </tr>\n",
              "    <tr>\n",
              "      <th>mean</th>\n",
              "      <td>0.126961</td>\n",
              "      <td>42.918958</td>\n",
              "      <td>44540.456973</td>\n",
              "      <td>6.058488</td>\n",
              "      <td>3.149786</td>\n",
              "      <td>0.660485</td>\n",
              "    </tr>\n",
              "    <tr>\n",
              "      <th>std</th>\n",
              "      <td>0.333168</td>\n",
              "      <td>15.562472</td>\n",
              "      <td>26362.209685</td>\n",
              "      <td>3.779758</td>\n",
              "      <td>18.043962</td>\n",
              "      <td>0.473883</td>\n",
              "    </tr>\n",
              "    <tr>\n",
              "      <th>min</th>\n",
              "      <td>0.000000</td>\n",
              "      <td>13.000000</td>\n",
              "      <td>10000.000000</td>\n",
              "      <td>0.000000</td>\n",
              "      <td>0.000000</td>\n",
              "      <td>0.000000</td>\n",
              "    </tr>\n",
              "    <tr>\n",
              "      <th>25%</th>\n",
              "      <td>0.000000</td>\n",
              "      <td>30.000000</td>\n",
              "      <td>25000.500000</td>\n",
              "      <td>4.000000</td>\n",
              "      <td>0.000000</td>\n",
              "      <td>0.000000</td>\n",
              "    </tr>\n",
              "    <tr>\n",
              "      <th>50%</th>\n",
              "      <td>0.000000</td>\n",
              "      <td>41.000000</td>\n",
              "      <td>35000.500000</td>\n",
              "      <td>6.000000</td>\n",
              "      <td>0.000000</td>\n",
              "      <td>1.000000</td>\n",
              "    </tr>\n",
              "    <tr>\n",
              "      <th>75%</th>\n",
              "      <td>0.000000</td>\n",
              "      <td>54.500000</td>\n",
              "      <td>65000.500000</td>\n",
              "      <td>8.000000</td>\n",
              "      <td>2.000000</td>\n",
              "      <td>1.000000</td>\n",
              "    </tr>\n",
              "    <tr>\n",
              "      <th>max</th>\n",
              "      <td>1.000000</td>\n",
              "      <td>82.000000</td>\n",
              "      <td>85000.500000</td>\n",
              "      <td>30.000000</td>\n",
              "      <td>250.000000</td>\n",
              "      <td>1.000000</td>\n",
              "    </tr>\n",
              "  </tbody>\n",
              "</table>\n",
              "</div>\n",
              "      <button class=\"colab-df-convert\" onclick=\"convertToInteractive('df-a43c17c3-3e1c-4a8d-a775-1cd9414bf400')\"\n",
              "              title=\"Convert this dataframe to an interactive table.\"\n",
              "              style=\"display:none;\">\n",
              "        \n",
              "  <svg xmlns=\"http://www.w3.org/2000/svg\" height=\"24px\"viewBox=\"0 0 24 24\"\n",
              "       width=\"24px\">\n",
              "    <path d=\"M0 0h24v24H0V0z\" fill=\"none\"/>\n",
              "    <path d=\"M18.56 5.44l.94 2.06.94-2.06 2.06-.94-2.06-.94-.94-2.06-.94 2.06-2.06.94zm-11 1L8.5 8.5l.94-2.06 2.06-.94-2.06-.94L8.5 2.5l-.94 2.06-2.06.94zm10 10l.94 2.06.94-2.06 2.06-.94-2.06-.94-.94-2.06-.94 2.06-2.06.94z\"/><path d=\"M17.41 7.96l-1.37-1.37c-.4-.4-.92-.59-1.43-.59-.52 0-1.04.2-1.43.59L10.3 9.45l-7.72 7.72c-.78.78-.78 2.05 0 2.83L4 21.41c.39.39.9.59 1.41.59.51 0 1.02-.2 1.41-.59l7.78-7.78 2.81-2.81c.8-.78.8-2.07 0-2.86zM5.41 20L4 18.59l7.72-7.72 1.47 1.35L5.41 20z\"/>\n",
              "  </svg>\n",
              "      </button>\n",
              "      \n",
              "  <style>\n",
              "    .colab-df-container {\n",
              "      display:flex;\n",
              "      flex-wrap:wrap;\n",
              "      gap: 12px;\n",
              "    }\n",
              "\n",
              "    .colab-df-convert {\n",
              "      background-color: #E8F0FE;\n",
              "      border: none;\n",
              "      border-radius: 50%;\n",
              "      cursor: pointer;\n",
              "      display: none;\n",
              "      fill: #1967D2;\n",
              "      height: 32px;\n",
              "      padding: 0 0 0 0;\n",
              "      width: 32px;\n",
              "    }\n",
              "\n",
              "    .colab-df-convert:hover {\n",
              "      background-color: #E2EBFA;\n",
              "      box-shadow: 0px 1px 2px rgba(60, 64, 67, 0.3), 0px 1px 3px 1px rgba(60, 64, 67, 0.15);\n",
              "      fill: #174EA6;\n",
              "    }\n",
              "\n",
              "    [theme=dark] .colab-df-convert {\n",
              "      background-color: #3B4455;\n",
              "      fill: #D2E3FC;\n",
              "    }\n",
              "\n",
              "    [theme=dark] .colab-df-convert:hover {\n",
              "      background-color: #434B5C;\n",
              "      box-shadow: 0px 1px 3px 1px rgba(0, 0, 0, 0.15);\n",
              "      filter: drop-shadow(0px 1px 2px rgba(0, 0, 0, 0.3));\n",
              "      fill: #FFFFFF;\n",
              "    }\n",
              "  </style>\n",
              "\n",
              "      <script>\n",
              "        const buttonEl =\n",
              "          document.querySelector('#df-a43c17c3-3e1c-4a8d-a775-1cd9414bf400 button.colab-df-convert');\n",
              "        buttonEl.style.display =\n",
              "          google.colab.kernel.accessAllowed ? 'block' : 'none';\n",
              "\n",
              "        async function convertToInteractive(key) {\n",
              "          const element = document.querySelector('#df-a43c17c3-3e1c-4a8d-a775-1cd9414bf400');\n",
              "          const dataTable =\n",
              "            await google.colab.kernel.invokeFunction('convertToInteractive',\n",
              "                                                     [key], {});\n",
              "          if (!dataTable) return;\n",
              "\n",
              "          const docLinkHtml = 'Like what you see? Visit the ' +\n",
              "            '<a target=\"_blank\" href=https://colab.research.google.com/notebooks/data_table.ipynb>data table notebook</a>'\n",
              "            + ' to learn more about interactive tables.';\n",
              "          element.innerHTML = '';\n",
              "          dataTable['output_type'] = 'display_data';\n",
              "          await google.colab.output.renderOutput(dataTable, element);\n",
              "          const docLink = document.createElement('div');\n",
              "          docLink.innerHTML = docLinkHtml;\n",
              "          element.appendChild(docLink);\n",
              "        }\n",
              "      </script>\n",
              "    </div>\n",
              "  </div>\n",
              "  "
            ]
          },
          "metadata": {},
          "execution_count": 11
        }
      ]
    },
    {
      "cell_type": "code",
      "source": [
        "df.drop_duplicates()\n"
      ],
      "metadata": {
        "colab": {
          "base_uri": "https://localhost:8080/",
          "height": 424
        },
        "id": "PDYDmKQOib2f",
        "outputId": "5d83e9f2-6086-4ba5-e6c9-6a8e3bfd43e2"
      },
      "execution_count": 12,
      "outputs": [
        {
          "output_type": "execute_result",
          "data": {
            "text/plain": [
              "       Country  SeeWhales   Age  Gender             Education  \\\n",
              "0    Australia          1  31.0  Female               Diploma   \n",
              "1           UK          0  22.0  Female                Degree   \n",
              "2          USA          0  46.0  Female                Degree   \n",
              "3       France          0  37.0  Female               Diploma   \n",
              "4           UK          0  66.0  Female                Degree   \n",
              "..         ...        ...   ...     ...                   ...   \n",
              "696  Australia          0  56.0  Female     Completed year 10   \n",
              "697  Australia          0  38.0  Female     Completed year 10   \n",
              "698  Australia          0  24.0  Female               Diploma   \n",
              "699  Australia          0  50.0    Male  Post-graduate degree   \n",
              "700  Australia          0  32.0    Male                Degree   \n",
              "\n",
              "            Income_AUD   Income  AdultWhales YoungWhales  Max_wtp   wtp  \\\n",
              "0    $60,001 - $70,000  65000.5            2         Yes      0.0  Less   \n",
              "1    Less than $20,000  10000.0            6          No      0.0  More   \n",
              "2    More than $70,000  85000.5            7          No      0.0  More   \n",
              "3    $20,001 - $30,000  25000.5            4         Yes      0.0  More   \n",
              "4                  NaN      NaN            6          No      0.0  More   \n",
              "..                 ...      ...          ...         ...      ...   ...   \n",
              "696  Less than $20,000  10000.0            0         Yes      1.0  Same   \n",
              "697  $30,001 - $40,000  35000.5            6         Yes      2.0  Same   \n",
              "698  $20,001 - $30,000  25000.5            6          No      2.0  Less   \n",
              "699  $30,001 - $40,000  35000.5            2         Yes      5.0  Same   \n",
              "700  More than $70,000  85000.5            8         Yes      0.0  Same   \n",
              "\n",
              "     PayConserve  \n",
              "0              1  \n",
              "1              0  \n",
              "2              0  \n",
              "3              1  \n",
              "4              0  \n",
              "..           ...  \n",
              "696            1  \n",
              "697            1  \n",
              "698            1  \n",
              "699            1  \n",
              "700            0  \n",
              "\n",
              "[700 rows x 12 columns]"
            ],
            "text/html": [
              "\n",
              "  <div id=\"df-d4d2d6fd-a0eb-44c0-8020-128896e34723\">\n",
              "    <div class=\"colab-df-container\">\n",
              "      <div>\n",
              "<style scoped>\n",
              "    .dataframe tbody tr th:only-of-type {\n",
              "        vertical-align: middle;\n",
              "    }\n",
              "\n",
              "    .dataframe tbody tr th {\n",
              "        vertical-align: top;\n",
              "    }\n",
              "\n",
              "    .dataframe thead th {\n",
              "        text-align: right;\n",
              "    }\n",
              "</style>\n",
              "<table border=\"1\" class=\"dataframe\">\n",
              "  <thead>\n",
              "    <tr style=\"text-align: right;\">\n",
              "      <th></th>\n",
              "      <th>Country</th>\n",
              "      <th>SeeWhales</th>\n",
              "      <th>Age</th>\n",
              "      <th>Gender</th>\n",
              "      <th>Education</th>\n",
              "      <th>Income_AUD</th>\n",
              "      <th>Income</th>\n",
              "      <th>AdultWhales</th>\n",
              "      <th>YoungWhales</th>\n",
              "      <th>Max_wtp</th>\n",
              "      <th>wtp</th>\n",
              "      <th>PayConserve</th>\n",
              "    </tr>\n",
              "  </thead>\n",
              "  <tbody>\n",
              "    <tr>\n",
              "      <th>0</th>\n",
              "      <td>Australia</td>\n",
              "      <td>1</td>\n",
              "      <td>31.0</td>\n",
              "      <td>Female</td>\n",
              "      <td>Diploma</td>\n",
              "      <td>$60,001 - $70,000</td>\n",
              "      <td>65000.5</td>\n",
              "      <td>2</td>\n",
              "      <td>Yes</td>\n",
              "      <td>0.0</td>\n",
              "      <td>Less</td>\n",
              "      <td>1</td>\n",
              "    </tr>\n",
              "    <tr>\n",
              "      <th>1</th>\n",
              "      <td>UK</td>\n",
              "      <td>0</td>\n",
              "      <td>22.0</td>\n",
              "      <td>Female</td>\n",
              "      <td>Degree</td>\n",
              "      <td>Less than $20,000</td>\n",
              "      <td>10000.0</td>\n",
              "      <td>6</td>\n",
              "      <td>No</td>\n",
              "      <td>0.0</td>\n",
              "      <td>More</td>\n",
              "      <td>0</td>\n",
              "    </tr>\n",
              "    <tr>\n",
              "      <th>2</th>\n",
              "      <td>USA</td>\n",
              "      <td>0</td>\n",
              "      <td>46.0</td>\n",
              "      <td>Female</td>\n",
              "      <td>Degree</td>\n",
              "      <td>More than $70,000</td>\n",
              "      <td>85000.5</td>\n",
              "      <td>7</td>\n",
              "      <td>No</td>\n",
              "      <td>0.0</td>\n",
              "      <td>More</td>\n",
              "      <td>0</td>\n",
              "    </tr>\n",
              "    <tr>\n",
              "      <th>3</th>\n",
              "      <td>France</td>\n",
              "      <td>0</td>\n",
              "      <td>37.0</td>\n",
              "      <td>Female</td>\n",
              "      <td>Diploma</td>\n",
              "      <td>$20,001 - $30,000</td>\n",
              "      <td>25000.5</td>\n",
              "      <td>4</td>\n",
              "      <td>Yes</td>\n",
              "      <td>0.0</td>\n",
              "      <td>More</td>\n",
              "      <td>1</td>\n",
              "    </tr>\n",
              "    <tr>\n",
              "      <th>4</th>\n",
              "      <td>UK</td>\n",
              "      <td>0</td>\n",
              "      <td>66.0</td>\n",
              "      <td>Female</td>\n",
              "      <td>Degree</td>\n",
              "      <td>NaN</td>\n",
              "      <td>NaN</td>\n",
              "      <td>6</td>\n",
              "      <td>No</td>\n",
              "      <td>0.0</td>\n",
              "      <td>More</td>\n",
              "      <td>0</td>\n",
              "    </tr>\n",
              "    <tr>\n",
              "      <th>...</th>\n",
              "      <td>...</td>\n",
              "      <td>...</td>\n",
              "      <td>...</td>\n",
              "      <td>...</td>\n",
              "      <td>...</td>\n",
              "      <td>...</td>\n",
              "      <td>...</td>\n",
              "      <td>...</td>\n",
              "      <td>...</td>\n",
              "      <td>...</td>\n",
              "      <td>...</td>\n",
              "      <td>...</td>\n",
              "    </tr>\n",
              "    <tr>\n",
              "      <th>696</th>\n",
              "      <td>Australia</td>\n",
              "      <td>0</td>\n",
              "      <td>56.0</td>\n",
              "      <td>Female</td>\n",
              "      <td>Completed year 10</td>\n",
              "      <td>Less than $20,000</td>\n",
              "      <td>10000.0</td>\n",
              "      <td>0</td>\n",
              "      <td>Yes</td>\n",
              "      <td>1.0</td>\n",
              "      <td>Same</td>\n",
              "      <td>1</td>\n",
              "    </tr>\n",
              "    <tr>\n",
              "      <th>697</th>\n",
              "      <td>Australia</td>\n",
              "      <td>0</td>\n",
              "      <td>38.0</td>\n",
              "      <td>Female</td>\n",
              "      <td>Completed year 10</td>\n",
              "      <td>$30,001 - $40,000</td>\n",
              "      <td>35000.5</td>\n",
              "      <td>6</td>\n",
              "      <td>Yes</td>\n",
              "      <td>2.0</td>\n",
              "      <td>Same</td>\n",
              "      <td>1</td>\n",
              "    </tr>\n",
              "    <tr>\n",
              "      <th>698</th>\n",
              "      <td>Australia</td>\n",
              "      <td>0</td>\n",
              "      <td>24.0</td>\n",
              "      <td>Female</td>\n",
              "      <td>Diploma</td>\n",
              "      <td>$20,001 - $30,000</td>\n",
              "      <td>25000.5</td>\n",
              "      <td>6</td>\n",
              "      <td>No</td>\n",
              "      <td>2.0</td>\n",
              "      <td>Less</td>\n",
              "      <td>1</td>\n",
              "    </tr>\n",
              "    <tr>\n",
              "      <th>699</th>\n",
              "      <td>Australia</td>\n",
              "      <td>0</td>\n",
              "      <td>50.0</td>\n",
              "      <td>Male</td>\n",
              "      <td>Post-graduate degree</td>\n",
              "      <td>$30,001 - $40,000</td>\n",
              "      <td>35000.5</td>\n",
              "      <td>2</td>\n",
              "      <td>Yes</td>\n",
              "      <td>5.0</td>\n",
              "      <td>Same</td>\n",
              "      <td>1</td>\n",
              "    </tr>\n",
              "    <tr>\n",
              "      <th>700</th>\n",
              "      <td>Australia</td>\n",
              "      <td>0</td>\n",
              "      <td>32.0</td>\n",
              "      <td>Male</td>\n",
              "      <td>Degree</td>\n",
              "      <td>More than $70,000</td>\n",
              "      <td>85000.5</td>\n",
              "      <td>8</td>\n",
              "      <td>Yes</td>\n",
              "      <td>0.0</td>\n",
              "      <td>Same</td>\n",
              "      <td>0</td>\n",
              "    </tr>\n",
              "  </tbody>\n",
              "</table>\n",
              "<p>700 rows × 12 columns</p>\n",
              "</div>\n",
              "      <button class=\"colab-df-convert\" onclick=\"convertToInteractive('df-d4d2d6fd-a0eb-44c0-8020-128896e34723')\"\n",
              "              title=\"Convert this dataframe to an interactive table.\"\n",
              "              style=\"display:none;\">\n",
              "        \n",
              "  <svg xmlns=\"http://www.w3.org/2000/svg\" height=\"24px\"viewBox=\"0 0 24 24\"\n",
              "       width=\"24px\">\n",
              "    <path d=\"M0 0h24v24H0V0z\" fill=\"none\"/>\n",
              "    <path d=\"M18.56 5.44l.94 2.06.94-2.06 2.06-.94-2.06-.94-.94-2.06-.94 2.06-2.06.94zm-11 1L8.5 8.5l.94-2.06 2.06-.94-2.06-.94L8.5 2.5l-.94 2.06-2.06.94zm10 10l.94 2.06.94-2.06 2.06-.94-2.06-.94-.94-2.06-.94 2.06-2.06.94z\"/><path d=\"M17.41 7.96l-1.37-1.37c-.4-.4-.92-.59-1.43-.59-.52 0-1.04.2-1.43.59L10.3 9.45l-7.72 7.72c-.78.78-.78 2.05 0 2.83L4 21.41c.39.39.9.59 1.41.59.51 0 1.02-.2 1.41-.59l7.78-7.78 2.81-2.81c.8-.78.8-2.07 0-2.86zM5.41 20L4 18.59l7.72-7.72 1.47 1.35L5.41 20z\"/>\n",
              "  </svg>\n",
              "      </button>\n",
              "      \n",
              "  <style>\n",
              "    .colab-df-container {\n",
              "      display:flex;\n",
              "      flex-wrap:wrap;\n",
              "      gap: 12px;\n",
              "    }\n",
              "\n",
              "    .colab-df-convert {\n",
              "      background-color: #E8F0FE;\n",
              "      border: none;\n",
              "      border-radius: 50%;\n",
              "      cursor: pointer;\n",
              "      display: none;\n",
              "      fill: #1967D2;\n",
              "      height: 32px;\n",
              "      padding: 0 0 0 0;\n",
              "      width: 32px;\n",
              "    }\n",
              "\n",
              "    .colab-df-convert:hover {\n",
              "      background-color: #E2EBFA;\n",
              "      box-shadow: 0px 1px 2px rgba(60, 64, 67, 0.3), 0px 1px 3px 1px rgba(60, 64, 67, 0.15);\n",
              "      fill: #174EA6;\n",
              "    }\n",
              "\n",
              "    [theme=dark] .colab-df-convert {\n",
              "      background-color: #3B4455;\n",
              "      fill: #D2E3FC;\n",
              "    }\n",
              "\n",
              "    [theme=dark] .colab-df-convert:hover {\n",
              "      background-color: #434B5C;\n",
              "      box-shadow: 0px 1px 3px 1px rgba(0, 0, 0, 0.15);\n",
              "      filter: drop-shadow(0px 1px 2px rgba(0, 0, 0, 0.3));\n",
              "      fill: #FFFFFF;\n",
              "    }\n",
              "  </style>\n",
              "\n",
              "      <script>\n",
              "        const buttonEl =\n",
              "          document.querySelector('#df-d4d2d6fd-a0eb-44c0-8020-128896e34723 button.colab-df-convert');\n",
              "        buttonEl.style.display =\n",
              "          google.colab.kernel.accessAllowed ? 'block' : 'none';\n",
              "\n",
              "        async function convertToInteractive(key) {\n",
              "          const element = document.querySelector('#df-d4d2d6fd-a0eb-44c0-8020-128896e34723');\n",
              "          const dataTable =\n",
              "            await google.colab.kernel.invokeFunction('convertToInteractive',\n",
              "                                                     [key], {});\n",
              "          if (!dataTable) return;\n",
              "\n",
              "          const docLinkHtml = 'Like what you see? Visit the ' +\n",
              "            '<a target=\"_blank\" href=https://colab.research.google.com/notebooks/data_table.ipynb>data table notebook</a>'\n",
              "            + ' to learn more about interactive tables.';\n",
              "          element.innerHTML = '';\n",
              "          dataTable['output_type'] = 'display_data';\n",
              "          await google.colab.output.renderOutput(dataTable, element);\n",
              "          const docLink = document.createElement('div');\n",
              "          docLink.innerHTML = docLinkHtml;\n",
              "          element.appendChild(docLink);\n",
              "        }\n",
              "      </script>\n",
              "    </div>\n",
              "  </div>\n",
              "  "
            ]
          },
          "metadata": {},
          "execution_count": 12
        }
      ]
    },
    {
      "cell_type": "code",
      "source": [
        "df.isna().sum()"
      ],
      "metadata": {
        "colab": {
          "base_uri": "https://localhost:8080/"
        },
        "id": "yxfxgT0BidTq",
        "outputId": "07d007b9-1255-462d-c588-9713582209b9"
      },
      "execution_count": 13,
      "outputs": [
        {
          "output_type": "execute_result",
          "data": {
            "text/plain": [
              "Country         0\n",
              "SeeWhales       0\n",
              "Age            10\n",
              "Gender          0\n",
              "Education       0\n",
              "Income_AUD     27\n",
              "Income         27\n",
              "AdultWhales     0\n",
              "YoungWhales     0\n",
              "Max_wtp         0\n",
              "wtp             0\n",
              "PayConserve     0\n",
              "dtype: int64"
            ]
          },
          "metadata": {},
          "execution_count": 13
        }
      ]
    },
    {
      "cell_type": "code",
      "source": [
        "df.duplicated().sum()"
      ],
      "metadata": {
        "colab": {
          "base_uri": "https://localhost:8080/"
        },
        "id": "8ud93YCRie7v",
        "outputId": "714412d7-7ad4-470f-8b5b-b6007fef33b7"
      },
      "execution_count": 14,
      "outputs": [
        {
          "output_type": "execute_result",
          "data": {
            "text/plain": [
              "1"
            ]
          },
          "metadata": {},
          "execution_count": 14
        }
      ]
    },
    {
      "cell_type": "code",
      "source": [
        "df.drop_duplicates()"
      ],
      "metadata": {
        "colab": {
          "base_uri": "https://localhost:8080/",
          "height": 424
        },
        "id": "ve5UR3thigyC",
        "outputId": "08aeb9a8-ef1b-4f52-e383-6b5dd6bec1a0"
      },
      "execution_count": 15,
      "outputs": [
        {
          "output_type": "execute_result",
          "data": {
            "text/plain": [
              "       Country  SeeWhales   Age  Gender             Education  \\\n",
              "0    Australia          1  31.0  Female               Diploma   \n",
              "1           UK          0  22.0  Female                Degree   \n",
              "2          USA          0  46.0  Female                Degree   \n",
              "3       France          0  37.0  Female               Diploma   \n",
              "4           UK          0  66.0  Female                Degree   \n",
              "..         ...        ...   ...     ...                   ...   \n",
              "696  Australia          0  56.0  Female     Completed year 10   \n",
              "697  Australia          0  38.0  Female     Completed year 10   \n",
              "698  Australia          0  24.0  Female               Diploma   \n",
              "699  Australia          0  50.0    Male  Post-graduate degree   \n",
              "700  Australia          0  32.0    Male                Degree   \n",
              "\n",
              "            Income_AUD   Income  AdultWhales YoungWhales  Max_wtp   wtp  \\\n",
              "0    $60,001 - $70,000  65000.5            2         Yes      0.0  Less   \n",
              "1    Less than $20,000  10000.0            6          No      0.0  More   \n",
              "2    More than $70,000  85000.5            7          No      0.0  More   \n",
              "3    $20,001 - $30,000  25000.5            4         Yes      0.0  More   \n",
              "4                  NaN      NaN            6          No      0.0  More   \n",
              "..                 ...      ...          ...         ...      ...   ...   \n",
              "696  Less than $20,000  10000.0            0         Yes      1.0  Same   \n",
              "697  $30,001 - $40,000  35000.5            6         Yes      2.0  Same   \n",
              "698  $20,001 - $30,000  25000.5            6          No      2.0  Less   \n",
              "699  $30,001 - $40,000  35000.5            2         Yes      5.0  Same   \n",
              "700  More than $70,000  85000.5            8         Yes      0.0  Same   \n",
              "\n",
              "     PayConserve  \n",
              "0              1  \n",
              "1              0  \n",
              "2              0  \n",
              "3              1  \n",
              "4              0  \n",
              "..           ...  \n",
              "696            1  \n",
              "697            1  \n",
              "698            1  \n",
              "699            1  \n",
              "700            0  \n",
              "\n",
              "[700 rows x 12 columns]"
            ],
            "text/html": [
              "\n",
              "  <div id=\"df-3f46379b-e670-47bc-95f7-6dac477dea38\">\n",
              "    <div class=\"colab-df-container\">\n",
              "      <div>\n",
              "<style scoped>\n",
              "    .dataframe tbody tr th:only-of-type {\n",
              "        vertical-align: middle;\n",
              "    }\n",
              "\n",
              "    .dataframe tbody tr th {\n",
              "        vertical-align: top;\n",
              "    }\n",
              "\n",
              "    .dataframe thead th {\n",
              "        text-align: right;\n",
              "    }\n",
              "</style>\n",
              "<table border=\"1\" class=\"dataframe\">\n",
              "  <thead>\n",
              "    <tr style=\"text-align: right;\">\n",
              "      <th></th>\n",
              "      <th>Country</th>\n",
              "      <th>SeeWhales</th>\n",
              "      <th>Age</th>\n",
              "      <th>Gender</th>\n",
              "      <th>Education</th>\n",
              "      <th>Income_AUD</th>\n",
              "      <th>Income</th>\n",
              "      <th>AdultWhales</th>\n",
              "      <th>YoungWhales</th>\n",
              "      <th>Max_wtp</th>\n",
              "      <th>wtp</th>\n",
              "      <th>PayConserve</th>\n",
              "    </tr>\n",
              "  </thead>\n",
              "  <tbody>\n",
              "    <tr>\n",
              "      <th>0</th>\n",
              "      <td>Australia</td>\n",
              "      <td>1</td>\n",
              "      <td>31.0</td>\n",
              "      <td>Female</td>\n",
              "      <td>Diploma</td>\n",
              "      <td>$60,001 - $70,000</td>\n",
              "      <td>65000.5</td>\n",
              "      <td>2</td>\n",
              "      <td>Yes</td>\n",
              "      <td>0.0</td>\n",
              "      <td>Less</td>\n",
              "      <td>1</td>\n",
              "    </tr>\n",
              "    <tr>\n",
              "      <th>1</th>\n",
              "      <td>UK</td>\n",
              "      <td>0</td>\n",
              "      <td>22.0</td>\n",
              "      <td>Female</td>\n",
              "      <td>Degree</td>\n",
              "      <td>Less than $20,000</td>\n",
              "      <td>10000.0</td>\n",
              "      <td>6</td>\n",
              "      <td>No</td>\n",
              "      <td>0.0</td>\n",
              "      <td>More</td>\n",
              "      <td>0</td>\n",
              "    </tr>\n",
              "    <tr>\n",
              "      <th>2</th>\n",
              "      <td>USA</td>\n",
              "      <td>0</td>\n",
              "      <td>46.0</td>\n",
              "      <td>Female</td>\n",
              "      <td>Degree</td>\n",
              "      <td>More than $70,000</td>\n",
              "      <td>85000.5</td>\n",
              "      <td>7</td>\n",
              "      <td>No</td>\n",
              "      <td>0.0</td>\n",
              "      <td>More</td>\n",
              "      <td>0</td>\n",
              "    </tr>\n",
              "    <tr>\n",
              "      <th>3</th>\n",
              "      <td>France</td>\n",
              "      <td>0</td>\n",
              "      <td>37.0</td>\n",
              "      <td>Female</td>\n",
              "      <td>Diploma</td>\n",
              "      <td>$20,001 - $30,000</td>\n",
              "      <td>25000.5</td>\n",
              "      <td>4</td>\n",
              "      <td>Yes</td>\n",
              "      <td>0.0</td>\n",
              "      <td>More</td>\n",
              "      <td>1</td>\n",
              "    </tr>\n",
              "    <tr>\n",
              "      <th>4</th>\n",
              "      <td>UK</td>\n",
              "      <td>0</td>\n",
              "      <td>66.0</td>\n",
              "      <td>Female</td>\n",
              "      <td>Degree</td>\n",
              "      <td>NaN</td>\n",
              "      <td>NaN</td>\n",
              "      <td>6</td>\n",
              "      <td>No</td>\n",
              "      <td>0.0</td>\n",
              "      <td>More</td>\n",
              "      <td>0</td>\n",
              "    </tr>\n",
              "    <tr>\n",
              "      <th>...</th>\n",
              "      <td>...</td>\n",
              "      <td>...</td>\n",
              "      <td>...</td>\n",
              "      <td>...</td>\n",
              "      <td>...</td>\n",
              "      <td>...</td>\n",
              "      <td>...</td>\n",
              "      <td>...</td>\n",
              "      <td>...</td>\n",
              "      <td>...</td>\n",
              "      <td>...</td>\n",
              "      <td>...</td>\n",
              "    </tr>\n",
              "    <tr>\n",
              "      <th>696</th>\n",
              "      <td>Australia</td>\n",
              "      <td>0</td>\n",
              "      <td>56.0</td>\n",
              "      <td>Female</td>\n",
              "      <td>Completed year 10</td>\n",
              "      <td>Less than $20,000</td>\n",
              "      <td>10000.0</td>\n",
              "      <td>0</td>\n",
              "      <td>Yes</td>\n",
              "      <td>1.0</td>\n",
              "      <td>Same</td>\n",
              "      <td>1</td>\n",
              "    </tr>\n",
              "    <tr>\n",
              "      <th>697</th>\n",
              "      <td>Australia</td>\n",
              "      <td>0</td>\n",
              "      <td>38.0</td>\n",
              "      <td>Female</td>\n",
              "      <td>Completed year 10</td>\n",
              "      <td>$30,001 - $40,000</td>\n",
              "      <td>35000.5</td>\n",
              "      <td>6</td>\n",
              "      <td>Yes</td>\n",
              "      <td>2.0</td>\n",
              "      <td>Same</td>\n",
              "      <td>1</td>\n",
              "    </tr>\n",
              "    <tr>\n",
              "      <th>698</th>\n",
              "      <td>Australia</td>\n",
              "      <td>0</td>\n",
              "      <td>24.0</td>\n",
              "      <td>Female</td>\n",
              "      <td>Diploma</td>\n",
              "      <td>$20,001 - $30,000</td>\n",
              "      <td>25000.5</td>\n",
              "      <td>6</td>\n",
              "      <td>No</td>\n",
              "      <td>2.0</td>\n",
              "      <td>Less</td>\n",
              "      <td>1</td>\n",
              "    </tr>\n",
              "    <tr>\n",
              "      <th>699</th>\n",
              "      <td>Australia</td>\n",
              "      <td>0</td>\n",
              "      <td>50.0</td>\n",
              "      <td>Male</td>\n",
              "      <td>Post-graduate degree</td>\n",
              "      <td>$30,001 - $40,000</td>\n",
              "      <td>35000.5</td>\n",
              "      <td>2</td>\n",
              "      <td>Yes</td>\n",
              "      <td>5.0</td>\n",
              "      <td>Same</td>\n",
              "      <td>1</td>\n",
              "    </tr>\n",
              "    <tr>\n",
              "      <th>700</th>\n",
              "      <td>Australia</td>\n",
              "      <td>0</td>\n",
              "      <td>32.0</td>\n",
              "      <td>Male</td>\n",
              "      <td>Degree</td>\n",
              "      <td>More than $70,000</td>\n",
              "      <td>85000.5</td>\n",
              "      <td>8</td>\n",
              "      <td>Yes</td>\n",
              "      <td>0.0</td>\n",
              "      <td>Same</td>\n",
              "      <td>0</td>\n",
              "    </tr>\n",
              "  </tbody>\n",
              "</table>\n",
              "<p>700 rows × 12 columns</p>\n",
              "</div>\n",
              "      <button class=\"colab-df-convert\" onclick=\"convertToInteractive('df-3f46379b-e670-47bc-95f7-6dac477dea38')\"\n",
              "              title=\"Convert this dataframe to an interactive table.\"\n",
              "              style=\"display:none;\">\n",
              "        \n",
              "  <svg xmlns=\"http://www.w3.org/2000/svg\" height=\"24px\"viewBox=\"0 0 24 24\"\n",
              "       width=\"24px\">\n",
              "    <path d=\"M0 0h24v24H0V0z\" fill=\"none\"/>\n",
              "    <path d=\"M18.56 5.44l.94 2.06.94-2.06 2.06-.94-2.06-.94-.94-2.06-.94 2.06-2.06.94zm-11 1L8.5 8.5l.94-2.06 2.06-.94-2.06-.94L8.5 2.5l-.94 2.06-2.06.94zm10 10l.94 2.06.94-2.06 2.06-.94-2.06-.94-.94-2.06-.94 2.06-2.06.94z\"/><path d=\"M17.41 7.96l-1.37-1.37c-.4-.4-.92-.59-1.43-.59-.52 0-1.04.2-1.43.59L10.3 9.45l-7.72 7.72c-.78.78-.78 2.05 0 2.83L4 21.41c.39.39.9.59 1.41.59.51 0 1.02-.2 1.41-.59l7.78-7.78 2.81-2.81c.8-.78.8-2.07 0-2.86zM5.41 20L4 18.59l7.72-7.72 1.47 1.35L5.41 20z\"/>\n",
              "  </svg>\n",
              "      </button>\n",
              "      \n",
              "  <style>\n",
              "    .colab-df-container {\n",
              "      display:flex;\n",
              "      flex-wrap:wrap;\n",
              "      gap: 12px;\n",
              "    }\n",
              "\n",
              "    .colab-df-convert {\n",
              "      background-color: #E8F0FE;\n",
              "      border: none;\n",
              "      border-radius: 50%;\n",
              "      cursor: pointer;\n",
              "      display: none;\n",
              "      fill: #1967D2;\n",
              "      height: 32px;\n",
              "      padding: 0 0 0 0;\n",
              "      width: 32px;\n",
              "    }\n",
              "\n",
              "    .colab-df-convert:hover {\n",
              "      background-color: #E2EBFA;\n",
              "      box-shadow: 0px 1px 2px rgba(60, 64, 67, 0.3), 0px 1px 3px 1px rgba(60, 64, 67, 0.15);\n",
              "      fill: #174EA6;\n",
              "    }\n",
              "\n",
              "    [theme=dark] .colab-df-convert {\n",
              "      background-color: #3B4455;\n",
              "      fill: #D2E3FC;\n",
              "    }\n",
              "\n",
              "    [theme=dark] .colab-df-convert:hover {\n",
              "      background-color: #434B5C;\n",
              "      box-shadow: 0px 1px 3px 1px rgba(0, 0, 0, 0.15);\n",
              "      filter: drop-shadow(0px 1px 2px rgba(0, 0, 0, 0.3));\n",
              "      fill: #FFFFFF;\n",
              "    }\n",
              "  </style>\n",
              "\n",
              "      <script>\n",
              "        const buttonEl =\n",
              "          document.querySelector('#df-3f46379b-e670-47bc-95f7-6dac477dea38 button.colab-df-convert');\n",
              "        buttonEl.style.display =\n",
              "          google.colab.kernel.accessAllowed ? 'block' : 'none';\n",
              "\n",
              "        async function convertToInteractive(key) {\n",
              "          const element = document.querySelector('#df-3f46379b-e670-47bc-95f7-6dac477dea38');\n",
              "          const dataTable =\n",
              "            await google.colab.kernel.invokeFunction('convertToInteractive',\n",
              "                                                     [key], {});\n",
              "          if (!dataTable) return;\n",
              "\n",
              "          const docLinkHtml = 'Like what you see? Visit the ' +\n",
              "            '<a target=\"_blank\" href=https://colab.research.google.com/notebooks/data_table.ipynb>data table notebook</a>'\n",
              "            + ' to learn more about interactive tables.';\n",
              "          element.innerHTML = '';\n",
              "          dataTable['output_type'] = 'display_data';\n",
              "          await google.colab.output.renderOutput(dataTable, element);\n",
              "          const docLink = document.createElement('div');\n",
              "          docLink.innerHTML = docLinkHtml;\n",
              "          element.appendChild(docLink);\n",
              "        }\n",
              "      </script>\n",
              "    </div>\n",
              "  </div>\n",
              "  "
            ]
          },
          "metadata": {},
          "execution_count": 15
        }
      ]
    },
    {
      "cell_type": "code",
      "source": [
        "df.duplicated().sum()"
      ],
      "metadata": {
        "colab": {
          "base_uri": "https://localhost:8080/"
        },
        "id": "Dm_0OyDuih3u",
        "outputId": "f8c57a48-c818-493d-b492-05c7f4ce2762"
      },
      "execution_count": 16,
      "outputs": [
        {
          "output_type": "execute_result",
          "data": {
            "text/plain": [
              "1"
            ]
          },
          "metadata": {},
          "execution_count": 16
        }
      ]
    },
    {
      "cell_type": "code",
      "source": [
        "df.isna().sum()"
      ],
      "metadata": {
        "colab": {
          "base_uri": "https://localhost:8080/"
        },
        "id": "hIo8yrEkijcW",
        "outputId": "5e23726c-99d5-44eb-e8cb-6b3835f0bf7f"
      },
      "execution_count": 17,
      "outputs": [
        {
          "output_type": "execute_result",
          "data": {
            "text/plain": [
              "Country         0\n",
              "SeeWhales       0\n",
              "Age            10\n",
              "Gender          0\n",
              "Education       0\n",
              "Income_AUD     27\n",
              "Income         27\n",
              "AdultWhales     0\n",
              "YoungWhales     0\n",
              "Max_wtp         0\n",
              "wtp             0\n",
              "PayConserve     0\n",
              "dtype: int64"
            ]
          },
          "metadata": {},
          "execution_count": 17
        }
      ]
    },
    {
      "cell_type": "code",
      "source": [
        "df=df.dropna()"
      ],
      "metadata": {
        "id": "xs_PpuXhikqw"
      },
      "execution_count": 18,
      "outputs": []
    },
    {
      "cell_type": "code",
      "source": [
        "df.isna().sum()"
      ],
      "metadata": {
        "colab": {
          "base_uri": "https://localhost:8080/"
        },
        "id": "Pw_dhlMRimev",
        "outputId": "3b8ac9df-c11a-433f-cc9f-433c86897d67"
      },
      "execution_count": 19,
      "outputs": [
        {
          "output_type": "execute_result",
          "data": {
            "text/plain": [
              "Country        0\n",
              "SeeWhales      0\n",
              "Age            0\n",
              "Gender         0\n",
              "Education      0\n",
              "Income_AUD     0\n",
              "Income         0\n",
              "AdultWhales    0\n",
              "YoungWhales    0\n",
              "Max_wtp        0\n",
              "wtp            0\n",
              "PayConserve    0\n",
              "dtype: int64"
            ]
          },
          "metadata": {},
          "execution_count": 19
        }
      ]
    },
    {
      "cell_type": "code",
      "source": [
        "df"
      ],
      "metadata": {
        "colab": {
          "base_uri": "https://localhost:8080/",
          "height": 424
        },
        "id": "rKUhk9Nhino5",
        "outputId": "fded5f22-d92e-4cb7-8591-2b58cb7f64df"
      },
      "execution_count": 20,
      "outputs": [
        {
          "output_type": "execute_result",
          "data": {
            "text/plain": [
              "       Country  SeeWhales   Age  Gender             Education  \\\n",
              "0    Australia          1  31.0  Female               Diploma   \n",
              "1           UK          0  22.0  Female                Degree   \n",
              "2          USA          0  46.0  Female                Degree   \n",
              "3       France          0  37.0  Female               Diploma   \n",
              "5    Australia          0  65.0    Male  Post-graduate degree   \n",
              "..         ...        ...   ...     ...                   ...   \n",
              "696  Australia          0  56.0  Female     Completed year 10   \n",
              "697  Australia          0  38.0  Female     Completed year 10   \n",
              "698  Australia          0  24.0  Female               Diploma   \n",
              "699  Australia          0  50.0    Male  Post-graduate degree   \n",
              "700  Australia          0  32.0    Male                Degree   \n",
              "\n",
              "            Income_AUD   Income  AdultWhales YoungWhales  Max_wtp   wtp  \\\n",
              "0    $60,001 - $70,000  65000.5            2         Yes      0.0  Less   \n",
              "1    Less than $20,000  10000.0            6          No      0.0  More   \n",
              "2    More than $70,000  85000.5            7          No      0.0  More   \n",
              "3    $20,001 - $30,000  25000.5            4         Yes      0.0  More   \n",
              "5    $40,001 - $50,000  45000.5            3         Yes      1.0  Same   \n",
              "..                 ...      ...          ...         ...      ...   ...   \n",
              "696  Less than $20,000  10000.0            0         Yes      1.0  Same   \n",
              "697  $30,001 - $40,000  35000.5            6         Yes      2.0  Same   \n",
              "698  $20,001 - $30,000  25000.5            6          No      2.0  Less   \n",
              "699  $30,001 - $40,000  35000.5            2         Yes      5.0  Same   \n",
              "700  More than $70,000  85000.5            8         Yes      0.0  Same   \n",
              "\n",
              "     PayConserve  \n",
              "0              1  \n",
              "1              0  \n",
              "2              0  \n",
              "3              1  \n",
              "5              1  \n",
              "..           ...  \n",
              "696            1  \n",
              "697            1  \n",
              "698            1  \n",
              "699            1  \n",
              "700            0  \n",
              "\n",
              "[668 rows x 12 columns]"
            ],
            "text/html": [
              "\n",
              "  <div id=\"df-17c06a5e-0a46-42f8-a2da-33203af214f0\">\n",
              "    <div class=\"colab-df-container\">\n",
              "      <div>\n",
              "<style scoped>\n",
              "    .dataframe tbody tr th:only-of-type {\n",
              "        vertical-align: middle;\n",
              "    }\n",
              "\n",
              "    .dataframe tbody tr th {\n",
              "        vertical-align: top;\n",
              "    }\n",
              "\n",
              "    .dataframe thead th {\n",
              "        text-align: right;\n",
              "    }\n",
              "</style>\n",
              "<table border=\"1\" class=\"dataframe\">\n",
              "  <thead>\n",
              "    <tr style=\"text-align: right;\">\n",
              "      <th></th>\n",
              "      <th>Country</th>\n",
              "      <th>SeeWhales</th>\n",
              "      <th>Age</th>\n",
              "      <th>Gender</th>\n",
              "      <th>Education</th>\n",
              "      <th>Income_AUD</th>\n",
              "      <th>Income</th>\n",
              "      <th>AdultWhales</th>\n",
              "      <th>YoungWhales</th>\n",
              "      <th>Max_wtp</th>\n",
              "      <th>wtp</th>\n",
              "      <th>PayConserve</th>\n",
              "    </tr>\n",
              "  </thead>\n",
              "  <tbody>\n",
              "    <tr>\n",
              "      <th>0</th>\n",
              "      <td>Australia</td>\n",
              "      <td>1</td>\n",
              "      <td>31.0</td>\n",
              "      <td>Female</td>\n",
              "      <td>Diploma</td>\n",
              "      <td>$60,001 - $70,000</td>\n",
              "      <td>65000.5</td>\n",
              "      <td>2</td>\n",
              "      <td>Yes</td>\n",
              "      <td>0.0</td>\n",
              "      <td>Less</td>\n",
              "      <td>1</td>\n",
              "    </tr>\n",
              "    <tr>\n",
              "      <th>1</th>\n",
              "      <td>UK</td>\n",
              "      <td>0</td>\n",
              "      <td>22.0</td>\n",
              "      <td>Female</td>\n",
              "      <td>Degree</td>\n",
              "      <td>Less than $20,000</td>\n",
              "      <td>10000.0</td>\n",
              "      <td>6</td>\n",
              "      <td>No</td>\n",
              "      <td>0.0</td>\n",
              "      <td>More</td>\n",
              "      <td>0</td>\n",
              "    </tr>\n",
              "    <tr>\n",
              "      <th>2</th>\n",
              "      <td>USA</td>\n",
              "      <td>0</td>\n",
              "      <td>46.0</td>\n",
              "      <td>Female</td>\n",
              "      <td>Degree</td>\n",
              "      <td>More than $70,000</td>\n",
              "      <td>85000.5</td>\n",
              "      <td>7</td>\n",
              "      <td>No</td>\n",
              "      <td>0.0</td>\n",
              "      <td>More</td>\n",
              "      <td>0</td>\n",
              "    </tr>\n",
              "    <tr>\n",
              "      <th>3</th>\n",
              "      <td>France</td>\n",
              "      <td>0</td>\n",
              "      <td>37.0</td>\n",
              "      <td>Female</td>\n",
              "      <td>Diploma</td>\n",
              "      <td>$20,001 - $30,000</td>\n",
              "      <td>25000.5</td>\n",
              "      <td>4</td>\n",
              "      <td>Yes</td>\n",
              "      <td>0.0</td>\n",
              "      <td>More</td>\n",
              "      <td>1</td>\n",
              "    </tr>\n",
              "    <tr>\n",
              "      <th>5</th>\n",
              "      <td>Australia</td>\n",
              "      <td>0</td>\n",
              "      <td>65.0</td>\n",
              "      <td>Male</td>\n",
              "      <td>Post-graduate degree</td>\n",
              "      <td>$40,001 - $50,000</td>\n",
              "      <td>45000.5</td>\n",
              "      <td>3</td>\n",
              "      <td>Yes</td>\n",
              "      <td>1.0</td>\n",
              "      <td>Same</td>\n",
              "      <td>1</td>\n",
              "    </tr>\n",
              "    <tr>\n",
              "      <th>...</th>\n",
              "      <td>...</td>\n",
              "      <td>...</td>\n",
              "      <td>...</td>\n",
              "      <td>...</td>\n",
              "      <td>...</td>\n",
              "      <td>...</td>\n",
              "      <td>...</td>\n",
              "      <td>...</td>\n",
              "      <td>...</td>\n",
              "      <td>...</td>\n",
              "      <td>...</td>\n",
              "      <td>...</td>\n",
              "    </tr>\n",
              "    <tr>\n",
              "      <th>696</th>\n",
              "      <td>Australia</td>\n",
              "      <td>0</td>\n",
              "      <td>56.0</td>\n",
              "      <td>Female</td>\n",
              "      <td>Completed year 10</td>\n",
              "      <td>Less than $20,000</td>\n",
              "      <td>10000.0</td>\n",
              "      <td>0</td>\n",
              "      <td>Yes</td>\n",
              "      <td>1.0</td>\n",
              "      <td>Same</td>\n",
              "      <td>1</td>\n",
              "    </tr>\n",
              "    <tr>\n",
              "      <th>697</th>\n",
              "      <td>Australia</td>\n",
              "      <td>0</td>\n",
              "      <td>38.0</td>\n",
              "      <td>Female</td>\n",
              "      <td>Completed year 10</td>\n",
              "      <td>$30,001 - $40,000</td>\n",
              "      <td>35000.5</td>\n",
              "      <td>6</td>\n",
              "      <td>Yes</td>\n",
              "      <td>2.0</td>\n",
              "      <td>Same</td>\n",
              "      <td>1</td>\n",
              "    </tr>\n",
              "    <tr>\n",
              "      <th>698</th>\n",
              "      <td>Australia</td>\n",
              "      <td>0</td>\n",
              "      <td>24.0</td>\n",
              "      <td>Female</td>\n",
              "      <td>Diploma</td>\n",
              "      <td>$20,001 - $30,000</td>\n",
              "      <td>25000.5</td>\n",
              "      <td>6</td>\n",
              "      <td>No</td>\n",
              "      <td>2.0</td>\n",
              "      <td>Less</td>\n",
              "      <td>1</td>\n",
              "    </tr>\n",
              "    <tr>\n",
              "      <th>699</th>\n",
              "      <td>Australia</td>\n",
              "      <td>0</td>\n",
              "      <td>50.0</td>\n",
              "      <td>Male</td>\n",
              "      <td>Post-graduate degree</td>\n",
              "      <td>$30,001 - $40,000</td>\n",
              "      <td>35000.5</td>\n",
              "      <td>2</td>\n",
              "      <td>Yes</td>\n",
              "      <td>5.0</td>\n",
              "      <td>Same</td>\n",
              "      <td>1</td>\n",
              "    </tr>\n",
              "    <tr>\n",
              "      <th>700</th>\n",
              "      <td>Australia</td>\n",
              "      <td>0</td>\n",
              "      <td>32.0</td>\n",
              "      <td>Male</td>\n",
              "      <td>Degree</td>\n",
              "      <td>More than $70,000</td>\n",
              "      <td>85000.5</td>\n",
              "      <td>8</td>\n",
              "      <td>Yes</td>\n",
              "      <td>0.0</td>\n",
              "      <td>Same</td>\n",
              "      <td>0</td>\n",
              "    </tr>\n",
              "  </tbody>\n",
              "</table>\n",
              "<p>668 rows × 12 columns</p>\n",
              "</div>\n",
              "      <button class=\"colab-df-convert\" onclick=\"convertToInteractive('df-17c06a5e-0a46-42f8-a2da-33203af214f0')\"\n",
              "              title=\"Convert this dataframe to an interactive table.\"\n",
              "              style=\"display:none;\">\n",
              "        \n",
              "  <svg xmlns=\"http://www.w3.org/2000/svg\" height=\"24px\"viewBox=\"0 0 24 24\"\n",
              "       width=\"24px\">\n",
              "    <path d=\"M0 0h24v24H0V0z\" fill=\"none\"/>\n",
              "    <path d=\"M18.56 5.44l.94 2.06.94-2.06 2.06-.94-2.06-.94-.94-2.06-.94 2.06-2.06.94zm-11 1L8.5 8.5l.94-2.06 2.06-.94-2.06-.94L8.5 2.5l-.94 2.06-2.06.94zm10 10l.94 2.06.94-2.06 2.06-.94-2.06-.94-.94-2.06-.94 2.06-2.06.94z\"/><path d=\"M17.41 7.96l-1.37-1.37c-.4-.4-.92-.59-1.43-.59-.52 0-1.04.2-1.43.59L10.3 9.45l-7.72 7.72c-.78.78-.78 2.05 0 2.83L4 21.41c.39.39.9.59 1.41.59.51 0 1.02-.2 1.41-.59l7.78-7.78 2.81-2.81c.8-.78.8-2.07 0-2.86zM5.41 20L4 18.59l7.72-7.72 1.47 1.35L5.41 20z\"/>\n",
              "  </svg>\n",
              "      </button>\n",
              "      \n",
              "  <style>\n",
              "    .colab-df-container {\n",
              "      display:flex;\n",
              "      flex-wrap:wrap;\n",
              "      gap: 12px;\n",
              "    }\n",
              "\n",
              "    .colab-df-convert {\n",
              "      background-color: #E8F0FE;\n",
              "      border: none;\n",
              "      border-radius: 50%;\n",
              "      cursor: pointer;\n",
              "      display: none;\n",
              "      fill: #1967D2;\n",
              "      height: 32px;\n",
              "      padding: 0 0 0 0;\n",
              "      width: 32px;\n",
              "    }\n",
              "\n",
              "    .colab-df-convert:hover {\n",
              "      background-color: #E2EBFA;\n",
              "      box-shadow: 0px 1px 2px rgba(60, 64, 67, 0.3), 0px 1px 3px 1px rgba(60, 64, 67, 0.15);\n",
              "      fill: #174EA6;\n",
              "    }\n",
              "\n",
              "    [theme=dark] .colab-df-convert {\n",
              "      background-color: #3B4455;\n",
              "      fill: #D2E3FC;\n",
              "    }\n",
              "\n",
              "    [theme=dark] .colab-df-convert:hover {\n",
              "      background-color: #434B5C;\n",
              "      box-shadow: 0px 1px 3px 1px rgba(0, 0, 0, 0.15);\n",
              "      filter: drop-shadow(0px 1px 2px rgba(0, 0, 0, 0.3));\n",
              "      fill: #FFFFFF;\n",
              "    }\n",
              "  </style>\n",
              "\n",
              "      <script>\n",
              "        const buttonEl =\n",
              "          document.querySelector('#df-17c06a5e-0a46-42f8-a2da-33203af214f0 button.colab-df-convert');\n",
              "        buttonEl.style.display =\n",
              "          google.colab.kernel.accessAllowed ? 'block' : 'none';\n",
              "\n",
              "        async function convertToInteractive(key) {\n",
              "          const element = document.querySelector('#df-17c06a5e-0a46-42f8-a2da-33203af214f0');\n",
              "          const dataTable =\n",
              "            await google.colab.kernel.invokeFunction('convertToInteractive',\n",
              "                                                     [key], {});\n",
              "          if (!dataTable) return;\n",
              "\n",
              "          const docLinkHtml = 'Like what you see? Visit the ' +\n",
              "            '<a target=\"_blank\" href=https://colab.research.google.com/notebooks/data_table.ipynb>data table notebook</a>'\n",
              "            + ' to learn more about interactive tables.';\n",
              "          element.innerHTML = '';\n",
              "          dataTable['output_type'] = 'display_data';\n",
              "          await google.colab.output.renderOutput(dataTable, element);\n",
              "          const docLink = document.createElement('div');\n",
              "          docLink.innerHTML = docLinkHtml;\n",
              "          element.appendChild(docLink);\n",
              "        }\n",
              "      </script>\n",
              "    </div>\n",
              "  </div>\n",
              "  "
            ]
          },
          "metadata": {},
          "execution_count": 20
        }
      ]
    },
    {
      "cell_type": "code",
      "source": [
        "df = df.replace({'Gender':{'Female':0,'Male':1}})\n",
        "df = df.replace({'YoungWhales':{'Yes':0,'No':1}})"
      ],
      "metadata": {
        "id": "EpNQHDf4io3Y"
      },
      "execution_count": 21,
      "outputs": []
    },
    {
      "cell_type": "code",
      "source": [
        "df"
      ],
      "metadata": {
        "colab": {
          "base_uri": "https://localhost:8080/",
          "height": 424
        },
        "id": "N8qjg0MiirTY",
        "outputId": "e0c5ea83-85c4-485a-b62c-34877b7c3ab0"
      },
      "execution_count": 22,
      "outputs": [
        {
          "output_type": "execute_result",
          "data": {
            "text/plain": [
              "       Country  SeeWhales   Age  Gender             Education  \\\n",
              "0    Australia          1  31.0       0               Diploma   \n",
              "1           UK          0  22.0       0                Degree   \n",
              "2          USA          0  46.0       0                Degree   \n",
              "3       France          0  37.0       0               Diploma   \n",
              "5    Australia          0  65.0       1  Post-graduate degree   \n",
              "..         ...        ...   ...     ...                   ...   \n",
              "696  Australia          0  56.0       0     Completed year 10   \n",
              "697  Australia          0  38.0       0     Completed year 10   \n",
              "698  Australia          0  24.0       0               Diploma   \n",
              "699  Australia          0  50.0       1  Post-graduate degree   \n",
              "700  Australia          0  32.0       1                Degree   \n",
              "\n",
              "            Income_AUD   Income  AdultWhales  YoungWhales  Max_wtp   wtp  \\\n",
              "0    $60,001 - $70,000  65000.5            2            0      0.0  Less   \n",
              "1    Less than $20,000  10000.0            6            1      0.0  More   \n",
              "2    More than $70,000  85000.5            7            1      0.0  More   \n",
              "3    $20,001 - $30,000  25000.5            4            0      0.0  More   \n",
              "5    $40,001 - $50,000  45000.5            3            0      1.0  Same   \n",
              "..                 ...      ...          ...          ...      ...   ...   \n",
              "696  Less than $20,000  10000.0            0            0      1.0  Same   \n",
              "697  $30,001 - $40,000  35000.5            6            0      2.0  Same   \n",
              "698  $20,001 - $30,000  25000.5            6            1      2.0  Less   \n",
              "699  $30,001 - $40,000  35000.5            2            0      5.0  Same   \n",
              "700  More than $70,000  85000.5            8            0      0.0  Same   \n",
              "\n",
              "     PayConserve  \n",
              "0              1  \n",
              "1              0  \n",
              "2              0  \n",
              "3              1  \n",
              "5              1  \n",
              "..           ...  \n",
              "696            1  \n",
              "697            1  \n",
              "698            1  \n",
              "699            1  \n",
              "700            0  \n",
              "\n",
              "[668 rows x 12 columns]"
            ],
            "text/html": [
              "\n",
              "  <div id=\"df-d93680d0-f95f-4e51-9125-2369946dc086\">\n",
              "    <div class=\"colab-df-container\">\n",
              "      <div>\n",
              "<style scoped>\n",
              "    .dataframe tbody tr th:only-of-type {\n",
              "        vertical-align: middle;\n",
              "    }\n",
              "\n",
              "    .dataframe tbody tr th {\n",
              "        vertical-align: top;\n",
              "    }\n",
              "\n",
              "    .dataframe thead th {\n",
              "        text-align: right;\n",
              "    }\n",
              "</style>\n",
              "<table border=\"1\" class=\"dataframe\">\n",
              "  <thead>\n",
              "    <tr style=\"text-align: right;\">\n",
              "      <th></th>\n",
              "      <th>Country</th>\n",
              "      <th>SeeWhales</th>\n",
              "      <th>Age</th>\n",
              "      <th>Gender</th>\n",
              "      <th>Education</th>\n",
              "      <th>Income_AUD</th>\n",
              "      <th>Income</th>\n",
              "      <th>AdultWhales</th>\n",
              "      <th>YoungWhales</th>\n",
              "      <th>Max_wtp</th>\n",
              "      <th>wtp</th>\n",
              "      <th>PayConserve</th>\n",
              "    </tr>\n",
              "  </thead>\n",
              "  <tbody>\n",
              "    <tr>\n",
              "      <th>0</th>\n",
              "      <td>Australia</td>\n",
              "      <td>1</td>\n",
              "      <td>31.0</td>\n",
              "      <td>0</td>\n",
              "      <td>Diploma</td>\n",
              "      <td>$60,001 - $70,000</td>\n",
              "      <td>65000.5</td>\n",
              "      <td>2</td>\n",
              "      <td>0</td>\n",
              "      <td>0.0</td>\n",
              "      <td>Less</td>\n",
              "      <td>1</td>\n",
              "    </tr>\n",
              "    <tr>\n",
              "      <th>1</th>\n",
              "      <td>UK</td>\n",
              "      <td>0</td>\n",
              "      <td>22.0</td>\n",
              "      <td>0</td>\n",
              "      <td>Degree</td>\n",
              "      <td>Less than $20,000</td>\n",
              "      <td>10000.0</td>\n",
              "      <td>6</td>\n",
              "      <td>1</td>\n",
              "      <td>0.0</td>\n",
              "      <td>More</td>\n",
              "      <td>0</td>\n",
              "    </tr>\n",
              "    <tr>\n",
              "      <th>2</th>\n",
              "      <td>USA</td>\n",
              "      <td>0</td>\n",
              "      <td>46.0</td>\n",
              "      <td>0</td>\n",
              "      <td>Degree</td>\n",
              "      <td>More than $70,000</td>\n",
              "      <td>85000.5</td>\n",
              "      <td>7</td>\n",
              "      <td>1</td>\n",
              "      <td>0.0</td>\n",
              "      <td>More</td>\n",
              "      <td>0</td>\n",
              "    </tr>\n",
              "    <tr>\n",
              "      <th>3</th>\n",
              "      <td>France</td>\n",
              "      <td>0</td>\n",
              "      <td>37.0</td>\n",
              "      <td>0</td>\n",
              "      <td>Diploma</td>\n",
              "      <td>$20,001 - $30,000</td>\n",
              "      <td>25000.5</td>\n",
              "      <td>4</td>\n",
              "      <td>0</td>\n",
              "      <td>0.0</td>\n",
              "      <td>More</td>\n",
              "      <td>1</td>\n",
              "    </tr>\n",
              "    <tr>\n",
              "      <th>5</th>\n",
              "      <td>Australia</td>\n",
              "      <td>0</td>\n",
              "      <td>65.0</td>\n",
              "      <td>1</td>\n",
              "      <td>Post-graduate degree</td>\n",
              "      <td>$40,001 - $50,000</td>\n",
              "      <td>45000.5</td>\n",
              "      <td>3</td>\n",
              "      <td>0</td>\n",
              "      <td>1.0</td>\n",
              "      <td>Same</td>\n",
              "      <td>1</td>\n",
              "    </tr>\n",
              "    <tr>\n",
              "      <th>...</th>\n",
              "      <td>...</td>\n",
              "      <td>...</td>\n",
              "      <td>...</td>\n",
              "      <td>...</td>\n",
              "      <td>...</td>\n",
              "      <td>...</td>\n",
              "      <td>...</td>\n",
              "      <td>...</td>\n",
              "      <td>...</td>\n",
              "      <td>...</td>\n",
              "      <td>...</td>\n",
              "      <td>...</td>\n",
              "    </tr>\n",
              "    <tr>\n",
              "      <th>696</th>\n",
              "      <td>Australia</td>\n",
              "      <td>0</td>\n",
              "      <td>56.0</td>\n",
              "      <td>0</td>\n",
              "      <td>Completed year 10</td>\n",
              "      <td>Less than $20,000</td>\n",
              "      <td>10000.0</td>\n",
              "      <td>0</td>\n",
              "      <td>0</td>\n",
              "      <td>1.0</td>\n",
              "      <td>Same</td>\n",
              "      <td>1</td>\n",
              "    </tr>\n",
              "    <tr>\n",
              "      <th>697</th>\n",
              "      <td>Australia</td>\n",
              "      <td>0</td>\n",
              "      <td>38.0</td>\n",
              "      <td>0</td>\n",
              "      <td>Completed year 10</td>\n",
              "      <td>$30,001 - $40,000</td>\n",
              "      <td>35000.5</td>\n",
              "      <td>6</td>\n",
              "      <td>0</td>\n",
              "      <td>2.0</td>\n",
              "      <td>Same</td>\n",
              "      <td>1</td>\n",
              "    </tr>\n",
              "    <tr>\n",
              "      <th>698</th>\n",
              "      <td>Australia</td>\n",
              "      <td>0</td>\n",
              "      <td>24.0</td>\n",
              "      <td>0</td>\n",
              "      <td>Diploma</td>\n",
              "      <td>$20,001 - $30,000</td>\n",
              "      <td>25000.5</td>\n",
              "      <td>6</td>\n",
              "      <td>1</td>\n",
              "      <td>2.0</td>\n",
              "      <td>Less</td>\n",
              "      <td>1</td>\n",
              "    </tr>\n",
              "    <tr>\n",
              "      <th>699</th>\n",
              "      <td>Australia</td>\n",
              "      <td>0</td>\n",
              "      <td>50.0</td>\n",
              "      <td>1</td>\n",
              "      <td>Post-graduate degree</td>\n",
              "      <td>$30,001 - $40,000</td>\n",
              "      <td>35000.5</td>\n",
              "      <td>2</td>\n",
              "      <td>0</td>\n",
              "      <td>5.0</td>\n",
              "      <td>Same</td>\n",
              "      <td>1</td>\n",
              "    </tr>\n",
              "    <tr>\n",
              "      <th>700</th>\n",
              "      <td>Australia</td>\n",
              "      <td>0</td>\n",
              "      <td>32.0</td>\n",
              "      <td>1</td>\n",
              "      <td>Degree</td>\n",
              "      <td>More than $70,000</td>\n",
              "      <td>85000.5</td>\n",
              "      <td>8</td>\n",
              "      <td>0</td>\n",
              "      <td>0.0</td>\n",
              "      <td>Same</td>\n",
              "      <td>0</td>\n",
              "    </tr>\n",
              "  </tbody>\n",
              "</table>\n",
              "<p>668 rows × 12 columns</p>\n",
              "</div>\n",
              "      <button class=\"colab-df-convert\" onclick=\"convertToInteractive('df-d93680d0-f95f-4e51-9125-2369946dc086')\"\n",
              "              title=\"Convert this dataframe to an interactive table.\"\n",
              "              style=\"display:none;\">\n",
              "        \n",
              "  <svg xmlns=\"http://www.w3.org/2000/svg\" height=\"24px\"viewBox=\"0 0 24 24\"\n",
              "       width=\"24px\">\n",
              "    <path d=\"M0 0h24v24H0V0z\" fill=\"none\"/>\n",
              "    <path d=\"M18.56 5.44l.94 2.06.94-2.06 2.06-.94-2.06-.94-.94-2.06-.94 2.06-2.06.94zm-11 1L8.5 8.5l.94-2.06 2.06-.94-2.06-.94L8.5 2.5l-.94 2.06-2.06.94zm10 10l.94 2.06.94-2.06 2.06-.94-2.06-.94-.94-2.06-.94 2.06-2.06.94z\"/><path d=\"M17.41 7.96l-1.37-1.37c-.4-.4-.92-.59-1.43-.59-.52 0-1.04.2-1.43.59L10.3 9.45l-7.72 7.72c-.78.78-.78 2.05 0 2.83L4 21.41c.39.39.9.59 1.41.59.51 0 1.02-.2 1.41-.59l7.78-7.78 2.81-2.81c.8-.78.8-2.07 0-2.86zM5.41 20L4 18.59l7.72-7.72 1.47 1.35L5.41 20z\"/>\n",
              "  </svg>\n",
              "      </button>\n",
              "      \n",
              "  <style>\n",
              "    .colab-df-container {\n",
              "      display:flex;\n",
              "      flex-wrap:wrap;\n",
              "      gap: 12px;\n",
              "    }\n",
              "\n",
              "    .colab-df-convert {\n",
              "      background-color: #E8F0FE;\n",
              "      border: none;\n",
              "      border-radius: 50%;\n",
              "      cursor: pointer;\n",
              "      display: none;\n",
              "      fill: #1967D2;\n",
              "      height: 32px;\n",
              "      padding: 0 0 0 0;\n",
              "      width: 32px;\n",
              "    }\n",
              "\n",
              "    .colab-df-convert:hover {\n",
              "      background-color: #E2EBFA;\n",
              "      box-shadow: 0px 1px 2px rgba(60, 64, 67, 0.3), 0px 1px 3px 1px rgba(60, 64, 67, 0.15);\n",
              "      fill: #174EA6;\n",
              "    }\n",
              "\n",
              "    [theme=dark] .colab-df-convert {\n",
              "      background-color: #3B4455;\n",
              "      fill: #D2E3FC;\n",
              "    }\n",
              "\n",
              "    [theme=dark] .colab-df-convert:hover {\n",
              "      background-color: #434B5C;\n",
              "      box-shadow: 0px 1px 3px 1px rgba(0, 0, 0, 0.15);\n",
              "      filter: drop-shadow(0px 1px 2px rgba(0, 0, 0, 0.3));\n",
              "      fill: #FFFFFF;\n",
              "    }\n",
              "  </style>\n",
              "\n",
              "      <script>\n",
              "        const buttonEl =\n",
              "          document.querySelector('#df-d93680d0-f95f-4e51-9125-2369946dc086 button.colab-df-convert');\n",
              "        buttonEl.style.display =\n",
              "          google.colab.kernel.accessAllowed ? 'block' : 'none';\n",
              "\n",
              "        async function convertToInteractive(key) {\n",
              "          const element = document.querySelector('#df-d93680d0-f95f-4e51-9125-2369946dc086');\n",
              "          const dataTable =\n",
              "            await google.colab.kernel.invokeFunction('convertToInteractive',\n",
              "                                                     [key], {});\n",
              "          if (!dataTable) return;\n",
              "\n",
              "          const docLinkHtml = 'Like what you see? Visit the ' +\n",
              "            '<a target=\"_blank\" href=https://colab.research.google.com/notebooks/data_table.ipynb>data table notebook</a>'\n",
              "            + ' to learn more about interactive tables.';\n",
              "          element.innerHTML = '';\n",
              "          dataTable['output_type'] = 'display_data';\n",
              "          await google.colab.output.renderOutput(dataTable, element);\n",
              "          const docLink = document.createElement('div');\n",
              "          docLink.innerHTML = docLinkHtml;\n",
              "          element.appendChild(docLink);\n",
              "        }\n",
              "      </script>\n",
              "    </div>\n",
              "  </div>\n",
              "  "
            ]
          },
          "metadata": {},
          "execution_count": 22
        }
      ]
    },
    {
      "cell_type": "code",
      "source": [
        "Country = df[\"Country\"].value_counts()\n",
        "\n",
        "sns.barplot(x=Country.values, y=Country.index)\n",
        "plt.show()"
      ],
      "metadata": {
        "colab": {
          "base_uri": "https://localhost:8080/",
          "height": 265
        },
        "id": "R7zUOQ2wizHM",
        "outputId": "36053c8b-aace-4a60-8a07-0ad728c2c453"
      },
      "execution_count": 23,
      "outputs": [
        {
          "output_type": "display_data",
          "data": {
            "text/plain": [
              "<Figure size 432x288 with 1 Axes>"
            ],
            "image/png": "[encoded data removed]"
          },
          "metadata": {
            "needs_background": "light"
          }
        }
      ]
    },
    {
      "cell_type": "markdown",
      "source": [
        "## Se observa que la gente tiende a preferir ir a Australia que al resto de países, ya que muchos de estos tienen indices bajos o ni siqueira son visitados"
      ],
      "metadata": {
        "id": "s0KqiluvmHsQ"
      }
    },
    {
      "cell_type": "code",
      "source": [
        "Gender = df[\"Gender\"].value_counts()\n",
        "\n",
        "sns.barplot(x=Gender.index, y=Gender.values)\n",
        "plt.show()"
      ],
      "metadata": {
        "colab": {
          "base_uri": "https://localhost:8080/",
          "height": 265
        },
        "id": "Y5ohY0jDi0zk",
        "outputId": "f816d640-8e2e-45af-d4b1-76a868295608"
      },
      "execution_count": 24,
      "outputs": [
        {
          "output_type": "display_data",
          "data": {
            "text/plain": [
              "<Figure size 432x288 with 1 Axes>"
            ],
            "image/png": "[encoded data removed]"
          },
          "metadata": {
            "needs_background": "light"
          }
        }
      ]
    },
    {
      "cell_type": "markdown",
      "source": [
        "## El estudio permite ver que hay 150 mujeres más que hombres \n",
        "\n",
        "\n"
      ],
      "metadata": {
        "id": "ilTUS6s7mZ_-"
      }
    },
    {
      "cell_type": "code",
      "source": [
        "SeeWhales\t = df[\"SeeWhales\"].value_counts()\n",
        "\n",
        "sns.barplot(x=SeeWhales\t.index, y=SeeWhales\t.values)\n",
        "plt.show()"
      ],
      "metadata": {
        "colab": {
          "base_uri": "https://localhost:8080/",
          "height": 265
        },
        "id": "Z35z7ZIgi2S_",
        "outputId": "14bd4366-5ee5-448b-da6b-5bef1fc83f1c"
      },
      "execution_count": 25,
      "outputs": [
        {
          "output_type": "display_data",
          "data": {
            "text/plain": [
              "<Figure size 432x288 with 1 Axes>"
            ],
            "image/png": "[encoded data removed]"
          },
          "metadata": {
            "needs_background": "light"
          }
        }
      ]
    },
    {
      "cell_type": "markdown",
      "source": [
        "## La mayoría de las personas prefieren no pagar por ver ballenas\n"
      ],
      "metadata": {
        "id": "ADbbk6Rbn06h"
      }
    },
    {
      "cell_type": "code",
      "source": [
        "Age = df[\"Age\"].value_counts()\n",
        "\n",
        "sns.barplot(x=Age.values, y=Age.index)\n",
        "plt.show()"
      ],
      "metadata": {
        "colab": {
          "base_uri": "https://localhost:8080/",
          "height": 265
        },
        "id": "szWGIxYWi3pp",
        "outputId": "c01c10ae-7b2c-47cd-9a7b-5bbc2213382b"
      },
      "execution_count": 26,
      "outputs": [
        {
          "output_type": "display_data",
          "data": {
            "text/plain": [
              "<Figure size 432x288 with 1 Axes>"
            ],
            "image/png": "[encoded data removed]"
          },
          "metadata": {
            "needs_background": "light"
          }
        }
      ]
    },
    {
      "cell_type": "code",
      "source": [
        "Education = df[\"Education\"].value_counts()\n",
        "\n",
        "sns.barplot(x= Education.values, y=Education.index)\n",
        "plt.show()"
      ],
      "metadata": {
        "colab": {
          "base_uri": "https://localhost:8080/",
          "height": 265
        },
        "id": "VhZBYL42i4_n",
        "outputId": "9f7d2215-7835-4698-b0a9-76846eb18276"
      },
      "execution_count": 27,
      "outputs": [
        {
          "output_type": "display_data",
          "data": {
            "text/plain": [
              "<Figure size 432x288 with 1 Axes>"
            ],
            "image/png": "[encoded data removed]"
          },
          "metadata": {
            "needs_background": "light"
          }
        }
      ]
    },
    {
      "cell_type": "markdown",
      "source": [
        "## 1. Se puede apreciar el contraste entre la gente con licenciaturas que es muy alto y el numero tan reducido que fue las personas con un nivel de primaria basico.\n",
        "## 2. Se puede notar que las personas deciden quedarse en promedio entre un Diploma y comlpetar el curso 12"
      ],
      "metadata": {
        "id": "b_uyefKJoiXn"
      }
    },
    {
      "cell_type": "code",
      "source": [
        "Income_AUD=df['Income_AUD'].value_counts()\n",
        "\n",
        "sns.barplot(x=Income_AUD.values, y=Income_AUD.index)\n",
        "plt.show()"
      ],
      "metadata": {
        "colab": {
          "base_uri": "https://localhost:8080/",
          "height": 265
        },
        "id": "rqUT3joAi6wc",
        "outputId": "b34f79f0-1e7e-487b-97b0-cf4117bf8caa"
      },
      "execution_count": 28,
      "outputs": [
        {
          "output_type": "display_data",
          "data": {
            "text/plain": [
              "<Figure size 432x288 with 1 Axes>"
            ],
            "image/png": "[encoded data removed]"
          },
          "metadata": {
            "needs_background": "light"
          }
        }
      ]
    },
    {
      "cell_type": "code",
      "source": [
        "plt.hist(df[\"Income\"])"
      ],
      "metadata": {
        "colab": {
          "base_uri": "https://localhost:8080/",
          "height": 334
        },
        "id": "cX0o3t87i8ZY",
        "outputId": "1e4a6bef-e693-4752-b369-38c891a5ce44"
      },
      "execution_count": 29,
      "outputs": [
        {
          "output_type": "execute_result",
          "data": {
            "text/plain": [
              "(array([135.,   0.,  87., 116.,  62.,   0.,  79.,  51.,   0., 138.]),\n",
              " array([10000.  , 17500.05, 25000.1 , 32500.15, 40000.2 , 47500.25,\n",
              "        55000.3 , 62500.35, 70000.4 , 77500.45, 85000.5 ]),\n",
              " <a list of 10 Patch objects>)"
            ]
          },
          "metadata": {},
          "execution_count": 29
        },
        {
          "output_type": "display_data",
          "data": {
            "text/plain": [
              "<Figure size 432x288 with 1 Axes>"
            ],
            "image/png": "[encoded data removed]"
          },
          "metadata": {
            "needs_background": "light"
          }
        }
      ]
    },
    {
      "cell_type": "markdown",
      "source": [
        "## Lo que normalmente se gana en dolares australinaos son en general cifras al redodor de los 10 000 y los 80 000 como la mayor cantidad "
      ],
      "metadata": {
        "id": "L4Pb_tdrJDGm"
      }
    },
    {
      "cell_type": "code",
      "source": [
        "plt.hist(df[\"AdultWhales\"])"
      ],
      "metadata": {
        "colab": {
          "base_uri": "https://localhost:8080/",
          "height": 317
        },
        "id": "p43QwQrFjAZH",
        "outputId": "7d6c064b-fa33-4f8a-82bc-f886eb78bbc3"
      },
      "execution_count": 30,
      "outputs": [
        {
          "output_type": "execute_result",
          "data": {
            "text/plain": [
              "(array([ 98., 213., 236.,  73.,  23.,  13.,  11.,   0.,   0.,   1.]),\n",
              " array([ 0.,  3.,  6.,  9., 12., 15., 18., 21., 24., 27., 30.]),\n",
              " <a list of 10 Patch objects>)"
            ]
          },
          "metadata": {},
          "execution_count": 30
        },
        {
          "output_type": "display_data",
          "data": {
            "text/plain": [
              "<Figure size 432x288 with 1 Axes>"
            ],
            "image/png": "[encoded data removed]"
          },
          "metadata": {
            "needs_background": "light"
          }
        }
      ]
    },
    {
      "cell_type": "markdown",
      "source": [
        "##Se vieron muy pocas ballenas adultas segun el estudio, ya que las que fueron vistas fueron cerca de 20 a 30 pero la mayor cantidad que se veía eran ballenas jovenes"
      ],
      "metadata": {
        "id": "Lq2XHHDzJ1N7"
      }
    },
    {
      "cell_type": "code",
      "source": [
        "YoungWhales = df[\"YoungWhales\"].value_counts()\n",
        "\n",
        "sns.barplot(x=YoungWhales.index, y=YoungWhales.values)\n",
        "plt.show()"
      ],
      "metadata": {
        "colab": {
          "base_uri": "https://localhost:8080/",
          "height": 265
        },
        "id": "SLfgfrFcjFK_",
        "outputId": "386b6dce-b89d-4a7c-ea9f-8c135e8f0207"
      },
      "execution_count": 31,
      "outputs": [
        {
          "output_type": "display_data",
          "data": {
            "text/plain": [
              "<Figure size 432x288 with 1 Axes>"
            ],
            "image/png": "[encoded data removed]"
          },
          "metadata": {
            "needs_background": "light"
          }
        }
      ]
    },
    {
      "cell_type": "markdown",
      "source": [
        "## La gran mayoría de las personas decidieron ver ballenas, por lo cual muestra el grafico que es poco más de la mitad de las personas que no querían ver ballenas"
      ],
      "metadata": {
        "id": "ihWGTWO9KMFJ"
      }
    },
    {
      "cell_type": "code",
      "source": [
        "plt.hist(df[\"Max_wtp\"])"
      ],
      "metadata": {
        "colab": {
          "base_uri": "https://localhost:8080/",
          "height": 317
        },
        "id": "Usgv43UajGzh",
        "outputId": "bc7fecc3-483d-4a3f-a619-be7a74a102f2"
      },
      "execution_count": 32,
      "outputs": [
        {
          "output_type": "execute_result",
          "data": {
            "text/plain": [
              "(array([658.,   2.,   1.,   1.,   3.,   0.,   0.,   0.,   0.,   3.]),\n",
              " array([  0.,  25.,  50.,  75., 100., 125., 150., 175., 200., 225., 250.]),\n",
              " <a list of 10 Patch objects>)"
            ]
          },
          "metadata": {},
          "execution_count": 32
        },
        {
          "output_type": "display_data",
          "data": {
            "text/plain": [
              "<Figure size 432x288 with 1 Axes>"
            ],
            "image/png": "[encoded data removed]"
          },
          "metadata": {
            "needs_background": "light"
          }
        }
      ]
    },
    {
      "cell_type": "markdown",
      "source": [
        "## El estudia apunta claramente a que las personas no estan interesados en pagar más allá de un rango entre 10 a 15 dolares maximo"
      ],
      "metadata": {
        "id": "WEaeM-G4KgCF"
      }
    },
    {
      "cell_type": "code",
      "source": [
        "import seaborn as sns\n",
        "sns. barplot(data=df,x=\"wtp\", y=\"PayConserve\")"
      ],
      "metadata": {
        "colab": {
          "base_uri": "https://localhost:8080/",
          "height": 299
        },
        "id": "owZ5opVVjIWR",
        "outputId": "31cca971-0158-4bd5-ff4b-0cb013a58c36"
      },
      "execution_count": 33,
      "outputs": [
        {
          "output_type": "execute_result",
          "data": {
            "text/plain": [
              "<matplotlib.axes._subplots.AxesSubplot at 0x7fa4ab19ec10>"
            ]
          },
          "metadata": {},
          "execution_count": 33
        },
        {
          "output_type": "display_data",
          "data": {
            "text/plain": [
              "<Figure size 432x288 with 1 Axes>"
            ],
            "image/png": "[encoded data removed]"
          },
          "metadata": {
            "needs_background": "light"
          }
        }
      ]
    },
    {
      "cell_type": "code",
      "source": [
        "m= pd.crosstab(df[\"Country\"],df[\"PayConserve\"]).stack().reset_index()"
      ],
      "metadata": {
        "id": "AQVx-Z6LjKG9"
      },
      "execution_count": 34,
      "outputs": []
    },
    {
      "cell_type": "code",
      "source": [
        "sns.barplot(data=m, y=\"Country\", x=0, hue=\"PayConserve\")"
      ],
      "metadata": {
        "colab": {
          "base_uri": "https://localhost:8080/",
          "height": 296
        },
        "id": "28fObEsHjL7s",
        "outputId": "5d5f4f94-04cd-46f5-f8c2-a7e8eccb1205"
      },
      "execution_count": 35,
      "outputs": [
        {
          "output_type": "execute_result",
          "data": {
            "text/plain": [
              "<matplotlib.axes._subplots.AxesSubplot at 0x7fa4aaf340d0>"
            ]
          },
          "metadata": {},
          "execution_count": 35
        },
        {
          "output_type": "display_data",
          "data": {
            "text/plain": [
              "<Figure size 432x288 with 1 Axes>"
            ],
            "image/png": "[encoded data removed]"
          },
          "metadata": {
            "needs_background": "light"
          }
        }
      ]
    },
    {
      "cell_type": "markdown",
      "source": [
        "## 1. El estudio permite ver principalmente que los interesados en ver o no ballenas son los Australianos, y como segundo sujeto interesado en ver o no ballenas cada semana durante 10 años son el Reino Unido. \n",
        "## 2. Muchos de los paises se puede decir que son indiferentes ante el ver o no ballenas"
      ],
      "metadata": {
        "id": "erPCY54_L5gR"
      }
    },
    {
      "cell_type": "code",
      "source": [
        "m= pd.crosstab(df[\"SeeWhales\"],df[\"PayConserve\"]).stack().reset_index()"
      ],
      "metadata": {
        "id": "x70VzQRBjNIp"
      },
      "execution_count": 36,
      "outputs": []
    },
    {
      "cell_type": "code",
      "source": [
        "sns.barplot(data=m, y=\"SeeWhales\", x=0, hue=\"PayConserve\")"
      ],
      "metadata": {
        "colab": {
          "base_uri": "https://localhost:8080/",
          "height": 296
        },
        "id": "EHpO5TijjOc8",
        "outputId": "f83724a2-ab53-4297-b532-377674263e2b"
      },
      "execution_count": 37,
      "outputs": [
        {
          "output_type": "execute_result",
          "data": {
            "text/plain": [
              "<matplotlib.axes._subplots.AxesSubplot at 0x7fa4aad65050>"
            ]
          },
          "metadata": {},
          "execution_count": 37
        },
        {
          "output_type": "display_data",
          "data": {
            "text/plain": [
              "<Figure size 432x288 with 1 Axes>"
            ],
            "image/png": "[encoded data removed]"
          },
          "metadata": {
            "needs_background": "light"
          }
        }
      ]
    },
    {
      "cell_type": "code",
      "source": [
        "df.boxplot(column=\"Age\",by=\"PayConserve\")"
      ],
      "metadata": {
        "colab": {
          "base_uri": "https://localhost:8080/",
          "height": 373
        },
        "id": "sY63A1PjjQAj",
        "outputId": "c56fef6c-be30-46dc-87ee-2b2ed98a8c64"
      },
      "execution_count": 38,
      "outputs": [
        {
          "output_type": "stream",
          "name": "stderr",
          "text": [
            "/usr/local/lib/python3.7/dist-packages/matplotlib/cbook/__init__.py:1376: VisibleDeprecationWarning: Creating an ndarray from ragged nested sequences (which is a list-or-tuple of lists-or-tuples-or ndarrays with different lengths or shapes) is deprecated. If you meant to do this, you must specify 'dtype=object' when creating the ndarray.\n",
            "  X = np.atleast_1d(X.T if isinstance(X, np.ndarray) else np.asarray(X))\n"
          ]
        },
        {
          "output_type": "execute_result",
          "data": {
            "text/plain": [
              "<matplotlib.axes._subplots.AxesSubplot at 0x7fa4aacb8390>"
            ]
          },
          "metadata": {},
          "execution_count": 38
        },
        {
          "output_type": "display_data",
          "data": {
            "text/plain": [
              "<Figure size 432x288 with 1 Axes>"
            ],
            "image/png": "[encoded data removed]"
          },
          "metadata": {
            "needs_background": "light"
          }
        }
      ]
    },
    {
      "cell_type": "code",
      "source": [
        "m= pd.crosstab(df[\"Gender\"],df[\"PayConserve\"]).stack().reset_index()"
      ],
      "metadata": {
        "id": "kdAyC3RTjRdG"
      },
      "execution_count": 39,
      "outputs": []
    },
    {
      "cell_type": "code",
      "source": [
        "sns.barplot(data=m, y=\"Gender\", x=0, hue=\"PayConserve\")"
      ],
      "metadata": {
        "colab": {
          "base_uri": "https://localhost:8080/",
          "height": 296
        },
        "id": "gcjs5G-GjSxs",
        "outputId": "10c71a4b-7a6f-4e00-eb21-9f4a06122749"
      },
      "execution_count": 40,
      "outputs": [
        {
          "output_type": "execute_result",
          "data": {
            "text/plain": [
              "<matplotlib.axes._subplots.AxesSubplot at 0x7fa4aac09890>"
            ]
          },
          "metadata": {},
          "execution_count": 40
        },
        {
          "output_type": "display_data",
          "data": {
            "text/plain": [
              "<Figure size 432x288 with 1 Axes>"
            ],
            "image/png": "[encoded data removed]"
          },
          "metadata": {
            "needs_background": "light"
          }
        }
      ]
    },
    {
      "cell_type": "code",
      "source": [
        "m= pd.crosstab(df[\"Education\"],df[\"PayConserve\"]).stack().reset_index()"
      ],
      "metadata": {
        "id": "4sTkC_D4jT_v"
      },
      "execution_count": 41,
      "outputs": []
    },
    {
      "cell_type": "code",
      "source": [
        "sns.barplot(data=m, y=\"Education\", x=0, hue=\"PayConserve\")"
      ],
      "metadata": {
        "colab": {
          "base_uri": "https://localhost:8080/",
          "height": 296
        },
        "id": "bQfV4V_BjVOs",
        "outputId": "f00f8767-f436-4f0c-f174-943bc1b5409b"
      },
      "execution_count": 42,
      "outputs": [
        {
          "output_type": "execute_result",
          "data": {
            "text/plain": [
              "<matplotlib.axes._subplots.AxesSubplot at 0x7fa4ab0b5c50>"
            ]
          },
          "metadata": {},
          "execution_count": 42
        },
        {
          "output_type": "display_data",
          "data": {
            "text/plain": [
              "<Figure size 432x288 with 1 Axes>"
            ],
            "image/png": "[encoded data removed]"
          },
          "metadata": {
            "needs_background": "light"
          }
        }
      ]
    },
    {
      "cell_type": "code",
      "source": [
        "t=pd.crosstab(df['Income_AUD'],df['PayConserve']).stack().reset_index()"
      ],
      "metadata": {
        "id": "SkbPSmoFjWcS"
      },
      "execution_count": 43,
      "outputs": []
    },
    {
      "cell_type": "code",
      "source": [
        "sns.barplot(data=t,  x=0, y='Income_AUD', hue='PayConserve')"
      ],
      "metadata": {
        "colab": {
          "base_uri": "https://localhost:8080/",
          "height": 296
        },
        "id": "eLJlLzXGjc18",
        "outputId": "dce71850-01cb-4157-b0f1-4881dea48ffd"
      },
      "execution_count": 44,
      "outputs": [
        {
          "output_type": "execute_result",
          "data": {
            "text/plain": [
              "<matplotlib.axes._subplots.AxesSubplot at 0x7fa4ab335510>"
            ]
          },
          "metadata": {},
          "execution_count": 44
        },
        {
          "output_type": "display_data",
          "data": {
            "text/plain": [
              "<Figure size 432x288 with 1 Axes>"
            ],
            "image/png": "[encoded data removed]"
          },
          "metadata": {
            "needs_background": "light"
          }
        }
      ]
    },
    {
      "cell_type": "code",
      "source": [
        "g=pd.crosstab(df['YoungWhales'],df['PayConserve']).stack().reset_index()"
      ],
      "metadata": {
        "id": "q3fS5oQXjejH"
      },
      "execution_count": 45,
      "outputs": []
    },
    {
      "cell_type": "code",
      "source": [
        "sns.barplot(data=g,  x='YoungWhales', y=0, hue='PayConserve')"
      ],
      "metadata": {
        "colab": {
          "base_uri": "https://localhost:8080/",
          "height": 296
        },
        "id": "5-_GjlRVjgWj",
        "outputId": "0503204d-d776-45b0-97e5-8624823880fa"
      },
      "execution_count": 46,
      "outputs": [
        {
          "output_type": "execute_result",
          "data": {
            "text/plain": [
              "<matplotlib.axes._subplots.AxesSubplot at 0x7fa4ab3f4450>"
            ]
          },
          "metadata": {},
          "execution_count": 46
        },
        {
          "output_type": "display_data",
          "data": {
            "text/plain": [
              "<Figure size 432x288 with 1 Axes>"
            ],
            "image/png": "[encoded data removed]"
          },
          "metadata": {
            "needs_background": "light"
          }
        }
      ]
    },
    {
      "cell_type": "code",
      "source": [
        "l=pd.crosstab(df['wtp'],df['PayConserve']).stack().reset_index()"
      ],
      "metadata": {
        "id": "UTq2iKSAjhib"
      },
      "execution_count": 47,
      "outputs": []
    },
    {
      "cell_type": "code",
      "source": [
        "sns.barplot(data=l,  x='wtp', y=0, hue='PayConserve')"
      ],
      "metadata": {
        "colab": {
          "base_uri": "https://localhost:8080/",
          "height": 296
        },
        "id": "wfGvQi21ji5c",
        "outputId": "35343cd5-582f-4980-ad48-e160b8fd5e9c"
      },
      "execution_count": 48,
      "outputs": [
        {
          "output_type": "execute_result",
          "data": {
            "text/plain": [
              "<matplotlib.axes._subplots.AxesSubplot at 0x7fa4ab2621d0>"
            ]
          },
          "metadata": {},
          "execution_count": 48
        },
        {
          "output_type": "display_data",
          "data": {
            "text/plain": [
              "<Figure size 432x288 with 1 Axes>"
            ],
            "image/png": "[encoded data removed]"
          },
          "metadata": {
            "needs_background": "light"
          }
        }
      ]
    },
    {
      "cell_type": "markdown",
      "source": [
        "## Se observa que la disposicon de las personas a pagar 2 doalres cada semana durante 10 años con el objetivo de conservar la actividad de avistamiento de ballenas muestra que hay personas que estan dispuestas a pagar menos mientras que hay una gran cantidad que por el contrario no esta dispuesta a pagar debido a que no quiere pagar más\n",
        "\n"
      ],
      "metadata": {
        "id": "m8H9AG9CNtE8"
      }
    },
    {
      "cell_type": "code",
      "source": [
        "df= df.replace({'Gender':{'Male':1,'Female':0}})"
      ],
      "metadata": {
        "id": "dqOBWPmujj-L"
      },
      "execution_count": 49,
      "outputs": []
    },
    {
      "cell_type": "code",
      "source": [
        "df= df.replace({'YoungWhales':{'Yes':1,'No':0}})"
      ],
      "metadata": {
        "id": "Uo5TQLB1jloF"
      },
      "execution_count": 50,
      "outputs": []
    },
    {
      "cell_type": "code",
      "source": [
        "df.corr()"
      ],
      "metadata": {
        "colab": {
          "base_uri": "https://localhost:8080/",
          "height": 300
        },
        "id": "xatStRdVjnDn",
        "outputId": "ef407c09-b8c3-41dd-8f1c-d33dd8e137c2"
      },
      "execution_count": 51,
      "outputs": [
        {
          "output_type": "execute_result",
          "data": {
            "text/plain": [
              "             SeeWhales       Age    Gender    Income  AdultWhales  \\\n",
              "SeeWhales     1.000000  0.132323 -0.004086 -0.016512     0.059876   \n",
              "Age           0.132323  1.000000  0.105724 -0.099886     0.090113   \n",
              "Gender       -0.004086  0.105724  1.000000  0.103052     0.070860   \n",
              "Income       -0.016512 -0.099886  0.103052  1.000000     0.059070   \n",
              "AdultWhales   0.059876  0.090113  0.070860  0.059070     1.000000   \n",
              "YoungWhales  -0.074203 -0.031347 -0.058259 -0.117574     0.005848   \n",
              "Max_wtp       0.072767 -0.051015  0.019567  0.051494     0.243281   \n",
              "PayConserve   0.080293 -0.101716 -0.010691 -0.016063     0.040078   \n",
              "\n",
              "             YoungWhales   Max_wtp  PayConserve  \n",
              "SeeWhales      -0.074203  0.072767     0.080293  \n",
              "Age            -0.031347 -0.051015    -0.101716  \n",
              "Gender         -0.058259  0.019567    -0.010691  \n",
              "Income         -0.117574  0.051494    -0.016063  \n",
              "AdultWhales     0.005848  0.243281     0.040078  \n",
              "YoungWhales     1.000000 -0.047691    -0.012819  \n",
              "Max_wtp        -0.047691  1.000000     0.125401  \n",
              "PayConserve    -0.012819  0.125401     1.000000  "
            ],
            "text/html": [
              "\n",
              "  <div id=\"df-1bbbe0dc-9496-48fb-89fd-6331397eeb2b\">\n",
              "    <div class=\"colab-df-container\">\n",
              "      <div>\n",
              "<style scoped>\n",
              "    .dataframe tbody tr th:only-of-type {\n",
              "        vertical-align: middle;\n",
              "    }\n",
              "\n",
              "    .dataframe tbody tr th {\n",
              "        vertical-align: top;\n",
              "    }\n",
              "\n",
              "    .dataframe thead th {\n",
              "        text-align: right;\n",
              "    }\n",
              "</style>\n",
              "<table border=\"1\" class=\"dataframe\">\n",
              "  <thead>\n",
              "    <tr style=\"text-align: right;\">\n",
              "      <th></th>\n",
              "      <th>SeeWhales</th>\n",
              "      <th>Age</th>\n",
              "      <th>Gender</th>\n",
              "      <th>Income</th>\n",
              "      <th>AdultWhales</th>\n",
              "      <th>YoungWhales</th>\n",
              "      <th>Max_wtp</th>\n",
              "      <th>PayConserve</th>\n",
              "    </tr>\n",
              "  </thead>\n",
              "  <tbody>\n",
              "    <tr>\n",
              "      <th>SeeWhales</th>\n",
              "      <td>1.000000</td>\n",
              "      <td>0.132323</td>\n",
              "      <td>-0.004086</td>\n",
              "      <td>-0.016512</td>\n",
              "      <td>0.059876</td>\n",
              "      <td>-0.074203</td>\n",
              "      <td>0.072767</td>\n",
              "      <td>0.080293</td>\n",
              "    </tr>\n",
              "    <tr>\n",
              "      <th>Age</th>\n",
              "      <td>0.132323</td>\n",
              "      <td>1.000000</td>\n",
              "      <td>0.105724</td>\n",
              "      <td>-0.099886</td>\n",
              "      <td>0.090113</td>\n",
              "      <td>-0.031347</td>\n",
              "      <td>-0.051015</td>\n",
              "      <td>-0.101716</td>\n",
              "    </tr>\n",
              "    <tr>\n",
              "      <th>Gender</th>\n",
              "      <td>-0.004086</td>\n",
              "      <td>0.105724</td>\n",
              "      <td>1.000000</td>\n",
              "      <td>0.103052</td>\n",
              "      <td>0.070860</td>\n",
              "      <td>-0.058259</td>\n",
              "      <td>0.019567</td>\n",
              "      <td>-0.010691</td>\n",
              "    </tr>\n",
              "    <tr>\n",
              "      <th>Income</th>\n",
              "      <td>-0.016512</td>\n",
              "      <td>-0.099886</td>\n",
              "      <td>0.103052</td>\n",
              "      <td>1.000000</td>\n",
              "      <td>0.059070</td>\n",
              "      <td>-0.117574</td>\n",
              "      <td>0.051494</td>\n",
              "      <td>-0.016063</td>\n",
              "    </tr>\n",
              "    <tr>\n",
              "      <th>AdultWhales</th>\n",
              "      <td>0.059876</td>\n",
              "      <td>0.090113</td>\n",
              "      <td>0.070860</td>\n",
              "      <td>0.059070</td>\n",
              "      <td>1.000000</td>\n",
              "      <td>0.005848</td>\n",
              "      <td>0.243281</td>\n",
              "      <td>0.040078</td>\n",
              "    </tr>\n",
              "    <tr>\n",
              "      <th>YoungWhales</th>\n",
              "      <td>-0.074203</td>\n",
              "      <td>-0.031347</td>\n",
              "      <td>-0.058259</td>\n",
              "      <td>-0.117574</td>\n",
              "      <td>0.005848</td>\n",
              "      <td>1.000000</td>\n",
              "      <td>-0.047691</td>\n",
              "      <td>-0.012819</td>\n",
              "    </tr>\n",
              "    <tr>\n",
              "      <th>Max_wtp</th>\n",
              "      <td>0.072767</td>\n",
              "      <td>-0.051015</td>\n",
              "      <td>0.019567</td>\n",
              "      <td>0.051494</td>\n",
              "      <td>0.243281</td>\n",
              "      <td>-0.047691</td>\n",
              "      <td>1.000000</td>\n",
              "      <td>0.125401</td>\n",
              "    </tr>\n",
              "    <tr>\n",
              "      <th>PayConserve</th>\n",
              "      <td>0.080293</td>\n",
              "      <td>-0.101716</td>\n",
              "      <td>-0.010691</td>\n",
              "      <td>-0.016063</td>\n",
              "      <td>0.040078</td>\n",
              "      <td>-0.012819</td>\n",
              "      <td>0.125401</td>\n",
              "      <td>1.000000</td>\n",
              "    </tr>\n",
              "  </tbody>\n",
              "</table>\n",
              "</div>\n",
              "      <button class=\"colab-df-convert\" onclick=\"convertToInteractive('df-1bbbe0dc-9496-48fb-89fd-6331397eeb2b')\"\n",
              "              title=\"Convert this dataframe to an interactive table.\"\n",
              "              style=\"display:none;\">\n",
              "        \n",
              "  <svg xmlns=\"http://www.w3.org/2000/svg\" height=\"24px\"viewBox=\"0 0 24 24\"\n",
              "       width=\"24px\">\n",
              "    <path d=\"M0 0h24v24H0V0z\" fill=\"none\"/>\n",
              "    <path d=\"M18.56 5.44l.94 2.06.94-2.06 2.06-.94-2.06-.94-.94-2.06-.94 2.06-2.06.94zm-11 1L8.5 8.5l.94-2.06 2.06-.94-2.06-.94L8.5 2.5l-.94 2.06-2.06.94zm10 10l.94 2.06.94-2.06 2.06-.94-2.06-.94-.94-2.06-.94 2.06-2.06.94z\"/><path d=\"M17.41 7.96l-1.37-1.37c-.4-.4-.92-.59-1.43-.59-.52 0-1.04.2-1.43.59L10.3 9.45l-7.72 7.72c-.78.78-.78 2.05 0 2.83L4 21.41c.39.39.9.59 1.41.59.51 0 1.02-.2 1.41-.59l7.78-7.78 2.81-2.81c.8-.78.8-2.07 0-2.86zM5.41 20L4 18.59l7.72-7.72 1.47 1.35L5.41 20z\"/>\n",
              "  </svg>\n",
              "      </button>\n",
              "      \n",
              "  <style>\n",
              "    .colab-df-container {\n",
              "      display:flex;\n",
              "      flex-wrap:wrap;\n",
              "      gap: 12px;\n",
              "    }\n",
              "\n",
              "    .colab-df-convert {\n",
              "      background-color: #E8F0FE;\n",
              "      border: none;\n",
              "      border-radius: 50%;\n",
              "      cursor: pointer;\n",
              "      display: none;\n",
              "      fill: #1967D2;\n",
              "      height: 32px;\n",
              "      padding: 0 0 0 0;\n",
              "      width: 32px;\n",
              "    }\n",
              "\n",
              "    .colab-df-convert:hover {\n",
              "      background-color: #E2EBFA;\n",
              "      box-shadow: 0px 1px 2px rgba(60, 64, 67, 0.3), 0px 1px 3px 1px rgba(60, 64, 67, 0.15);\n",
              "      fill: #174EA6;\n",
              "    }\n",
              "\n",
              "    [theme=dark] .colab-df-convert {\n",
              "      background-color: #3B4455;\n",
              "      fill: #D2E3FC;\n",
              "    }\n",
              "\n",
              "    [theme=dark] .colab-df-convert:hover {\n",
              "      background-color: #434B5C;\n",
              "      box-shadow: 0px 1px 3px 1px rgba(0, 0, 0, 0.15);\n",
              "      filter: drop-shadow(0px 1px 2px rgba(0, 0, 0, 0.3));\n",
              "      fill: #FFFFFF;\n",
              "    }\n",
              "  </style>\n",
              "\n",
              "      <script>\n",
              "        const buttonEl =\n",
              "          document.querySelector('#df-1bbbe0dc-9496-48fb-89fd-6331397eeb2b button.colab-df-convert');\n",
              "        buttonEl.style.display =\n",
              "          google.colab.kernel.accessAllowed ? 'block' : 'none';\n",
              "\n",
              "        async function convertToInteractive(key) {\n",
              "          const element = document.querySelector('#df-1bbbe0dc-9496-48fb-89fd-6331397eeb2b');\n",
              "          const dataTable =\n",
              "            await google.colab.kernel.invokeFunction('convertToInteractive',\n",
              "                                                     [key], {});\n",
              "          if (!dataTable) return;\n",
              "\n",
              "          const docLinkHtml = 'Like what you see? Visit the ' +\n",
              "            '<a target=\"_blank\" href=https://colab.research.google.com/notebooks/data_table.ipynb>data table notebook</a>'\n",
              "            + ' to learn more about interactive tables.';\n",
              "          element.innerHTML = '';\n",
              "          dataTable['output_type'] = 'display_data';\n",
              "          await google.colab.output.renderOutput(dataTable, element);\n",
              "          const docLink = document.createElement('div');\n",
              "          docLink.innerHTML = docLinkHtml;\n",
              "          element.appendChild(docLink);\n",
              "        }\n",
              "      </script>\n",
              "    </div>\n",
              "  </div>\n",
              "  "
            ]
          },
          "metadata": {},
          "execution_count": 51
        }
      ]
    },
    {
      "cell_type": "code",
      "source": [
        "df.corr(method='spearman')"
      ],
      "metadata": {
        "colab": {
          "base_uri": "https://localhost:8080/",
          "height": 300
        },
        "id": "8lDMNZPzjor-",
        "outputId": "27ae8186-8814-456c-9841-7ccba4c1d5c5"
      },
      "execution_count": 52,
      "outputs": [
        {
          "output_type": "execute_result",
          "data": {
            "text/plain": [
              "             SeeWhales       Age    Gender    Income  AdultWhales  \\\n",
              "SeeWhales     1.000000  0.132654 -0.004086 -0.013938     0.054898   \n",
              "Age           0.132654  1.000000  0.108226 -0.057471     0.064349   \n",
              "Gender       -0.004086  0.108226  1.000000  0.104436     0.039980   \n",
              "Income       -0.013938 -0.057471  0.104436  1.000000     0.058659   \n",
              "AdultWhales   0.054898  0.064349  0.039980  0.058659     1.000000   \n",
              "YoungWhales  -0.074203 -0.040857 -0.058259 -0.121695     0.012534   \n",
              "Max_wtp      -0.007373 -0.191821 -0.001200  0.106140     0.040770   \n",
              "PayConserve   0.080293 -0.097485 -0.010691  0.003990     0.015463   \n",
              "\n",
              "             YoungWhales   Max_wtp  PayConserve  \n",
              "SeeWhales      -0.074203 -0.007373     0.080293  \n",
              "Age            -0.040857 -0.191821    -0.097485  \n",
              "Gender         -0.058259 -0.001200    -0.010691  \n",
              "Income         -0.121695  0.106140     0.003990  \n",
              "AdultWhales     0.012534  0.040770     0.015463  \n",
              "YoungWhales     1.000000 -0.047573    -0.012819  \n",
              "Max_wtp        -0.047573  1.000000     0.570777  \n",
              "PayConserve    -0.012819  0.570777     1.000000  "
            ],
            "text/html": [
              "\n",
              "  <div id=\"df-639bdce8-067b-4b8c-b318-1d17820f774f\">\n",
              "    <div class=\"colab-df-container\">\n",
              "      <div>\n",
              "<style scoped>\n",
              "    .dataframe tbody tr th:only-of-type {\n",
              "        vertical-align: middle;\n",
              "    }\n",
              "\n",
              "    .dataframe tbody tr th {\n",
              "        vertical-align: top;\n",
              "    }\n",
              "\n",
              "    .dataframe thead th {\n",
              "        text-align: right;\n",
              "    }\n",
              "</style>\n",
              "<table border=\"1\" class=\"dataframe\">\n",
              "  <thead>\n",
              "    <tr style=\"text-align: right;\">\n",
              "      <th></th>\n",
              "      <th>SeeWhales</th>\n",
              "      <th>Age</th>\n",
              "      <th>Gender</th>\n",
              "      <th>Income</th>\n",
              "      <th>AdultWhales</th>\n",
              "      <th>YoungWhales</th>\n",
              "      <th>Max_wtp</th>\n",
              "      <th>PayConserve</th>\n",
              "    </tr>\n",
              "  </thead>\n",
              "  <tbody>\n",
              "    <tr>\n",
              "      <th>SeeWhales</th>\n",
              "      <td>1.000000</td>\n",
              "      <td>0.132654</td>\n",
              "      <td>-0.004086</td>\n",
              "      <td>-0.013938</td>\n",
              "      <td>0.054898</td>\n",
              "      <td>-0.074203</td>\n",
              "      <td>-0.007373</td>\n",
              "      <td>0.080293</td>\n",
              "    </tr>\n",
              "    <tr>\n",
              "      <th>Age</th>\n",
              "      <td>0.132654</td>\n",
              "      <td>1.000000</td>\n",
              "      <td>0.108226</td>\n",
              "      <td>-0.057471</td>\n",
              "      <td>0.064349</td>\n",
              "      <td>-0.040857</td>\n",
              "      <td>-0.191821</td>\n",
              "      <td>-0.097485</td>\n",
              "    </tr>\n",
              "    <tr>\n",
              "      <th>Gender</th>\n",
              "      <td>-0.004086</td>\n",
              "      <td>0.108226</td>\n",
              "      <td>1.000000</td>\n",
              "      <td>0.104436</td>\n",
              "      <td>0.039980</td>\n",
              "      <td>-0.058259</td>\n",
              "      <td>-0.001200</td>\n",
              "      <td>-0.010691</td>\n",
              "    </tr>\n",
              "    <tr>\n",
              "      <th>Income</th>\n",
              "      <td>-0.013938</td>\n",
              "      <td>-0.057471</td>\n",
              "      <td>0.104436</td>\n",
              "      <td>1.000000</td>\n",
              "      <td>0.058659</td>\n",
              "      <td>-0.121695</td>\n",
              "      <td>0.106140</td>\n",
              "      <td>0.003990</td>\n",
              "    </tr>\n",
              "    <tr>\n",
              "      <th>AdultWhales</th>\n",
              "      <td>0.054898</td>\n",
              "      <td>0.064349</td>\n",
              "      <td>0.039980</td>\n",
              "      <td>0.058659</td>\n",
              "      <td>1.000000</td>\n",
              "      <td>0.012534</td>\n",
              "      <td>0.040770</td>\n",
              "      <td>0.015463</td>\n",
              "    </tr>\n",
              "    <tr>\n",
              "      <th>YoungWhales</th>\n",
              "      <td>-0.074203</td>\n",
              "      <td>-0.040857</td>\n",
              "      <td>-0.058259</td>\n",
              "      <td>-0.121695</td>\n",
              "      <td>0.012534</td>\n",
              "      <td>1.000000</td>\n",
              "      <td>-0.047573</td>\n",
              "      <td>-0.012819</td>\n",
              "    </tr>\n",
              "    <tr>\n",
              "      <th>Max_wtp</th>\n",
              "      <td>-0.007373</td>\n",
              "      <td>-0.191821</td>\n",
              "      <td>-0.001200</td>\n",
              "      <td>0.106140</td>\n",
              "      <td>0.040770</td>\n",
              "      <td>-0.047573</td>\n",
              "      <td>1.000000</td>\n",
              "      <td>0.570777</td>\n",
              "    </tr>\n",
              "    <tr>\n",
              "      <th>PayConserve</th>\n",
              "      <td>0.080293</td>\n",
              "      <td>-0.097485</td>\n",
              "      <td>-0.010691</td>\n",
              "      <td>0.003990</td>\n",
              "      <td>0.015463</td>\n",
              "      <td>-0.012819</td>\n",
              "      <td>0.570777</td>\n",
              "      <td>1.000000</td>\n",
              "    </tr>\n",
              "  </tbody>\n",
              "</table>\n",
              "</div>\n",
              "      <button class=\"colab-df-convert\" onclick=\"convertToInteractive('df-639bdce8-067b-4b8c-b318-1d17820f774f')\"\n",
              "              title=\"Convert this dataframe to an interactive table.\"\n",
              "              style=\"display:none;\">\n",
              "        \n",
              "  <svg xmlns=\"http://www.w3.org/2000/svg\" height=\"24px\"viewBox=\"0 0 24 24\"\n",
              "       width=\"24px\">\n",
              "    <path d=\"M0 0h24v24H0V0z\" fill=\"none\"/>\n",
              "    <path d=\"M18.56 5.44l.94 2.06.94-2.06 2.06-.94-2.06-.94-.94-2.06-.94 2.06-2.06.94zm-11 1L8.5 8.5l.94-2.06 2.06-.94-2.06-.94L8.5 2.5l-.94 2.06-2.06.94zm10 10l.94 2.06.94-2.06 2.06-.94-2.06-.94-.94-2.06-.94 2.06-2.06.94z\"/><path d=\"M17.41 7.96l-1.37-1.37c-.4-.4-.92-.59-1.43-.59-.52 0-1.04.2-1.43.59L10.3 9.45l-7.72 7.72c-.78.78-.78 2.05 0 2.83L4 21.41c.39.39.9.59 1.41.59.51 0 1.02-.2 1.41-.59l7.78-7.78 2.81-2.81c.8-.78.8-2.07 0-2.86zM5.41 20L4 18.59l7.72-7.72 1.47 1.35L5.41 20z\"/>\n",
              "  </svg>\n",
              "      </button>\n",
              "      \n",
              "  <style>\n",
              "    .colab-df-container {\n",
              "      display:flex;\n",
              "      flex-wrap:wrap;\n",
              "      gap: 12px;\n",
              "    }\n",
              "\n",
              "    .colab-df-convert {\n",
              "      background-color: #E8F0FE;\n",
              "      border: none;\n",
              "      border-radius: 50%;\n",
              "      cursor: pointer;\n",
              "      display: none;\n",
              "      fill: #1967D2;\n",
              "      height: 32px;\n",
              "      padding: 0 0 0 0;\n",
              "      width: 32px;\n",
              "    }\n",
              "\n",
              "    .colab-df-convert:hover {\n",
              "      background-color: #E2EBFA;\n",
              "      box-shadow: 0px 1px 2px rgba(60, 64, 67, 0.3), 0px 1px 3px 1px rgba(60, 64, 67, 0.15);\n",
              "      fill: #174EA6;\n",
              "    }\n",
              "\n",
              "    [theme=dark] .colab-df-convert {\n",
              "      background-color: #3B4455;\n",
              "      fill: #D2E3FC;\n",
              "    }\n",
              "\n",
              "    [theme=dark] .colab-df-convert:hover {\n",
              "      background-color: #434B5C;\n",
              "      box-shadow: 0px 1px 3px 1px rgba(0, 0, 0, 0.15);\n",
              "      filter: drop-shadow(0px 1px 2px rgba(0, 0, 0, 0.3));\n",
              "      fill: #FFFFFF;\n",
              "    }\n",
              "  </style>\n",
              "\n",
              "      <script>\n",
              "        const buttonEl =\n",
              "          document.querySelector('#df-639bdce8-067b-4b8c-b318-1d17820f774f button.colab-df-convert');\n",
              "        buttonEl.style.display =\n",
              "          google.colab.kernel.accessAllowed ? 'block' : 'none';\n",
              "\n",
              "        async function convertToInteractive(key) {\n",
              "          const element = document.querySelector('#df-639bdce8-067b-4b8c-b318-1d17820f774f');\n",
              "          const dataTable =\n",
              "            await google.colab.kernel.invokeFunction('convertToInteractive',\n",
              "                                                     [key], {});\n",
              "          if (!dataTable) return;\n",
              "\n",
              "          const docLinkHtml = 'Like what you see? Visit the ' +\n",
              "            '<a target=\"_blank\" href=https://colab.research.google.com/notebooks/data_table.ipynb>data table notebook</a>'\n",
              "            + ' to learn more about interactive tables.';\n",
              "          element.innerHTML = '';\n",
              "          dataTable['output_type'] = 'display_data';\n",
              "          await google.colab.output.renderOutput(dataTable, element);\n",
              "          const docLink = document.createElement('div');\n",
              "          docLink.innerHTML = docLinkHtml;\n",
              "          element.appendChild(docLink);\n",
              "        }\n",
              "      </script>\n",
              "    </div>\n",
              "  </div>\n",
              "  "
            ]
          },
          "metadata": {},
          "execution_count": 52
        }
      ]
    },
    {
      "cell_type": "markdown",
      "source": [
        "## Se puede apreciar que las unicas variables con una correlacion positiva importantemente alta son PayConserve y Max_wtp"
      ],
      "metadata": {
        "id": "ALHHh-qjQ-Cg"
      }
    },
    {
      "cell_type": "code",
      "source": [
        "y = df[\"PayConserve\"]\n",
        "x = df[[\"Income\",'Age','AdultWhales','YoungWhales','Max_wtp']]\n",
        "x = sm.add_constant(x)\n",
        "model = sm.OLS(y,x)\n",
        "reg = model.fit()\n",
        "reg.summary()"
      ],
      "metadata": {
        "colab": {
          "base_uri": "https://localhost:8080/",
          "height": 606
        },
        "id": "O2X2CjCXjqmo",
        "outputId": "a2aec196-385f-425d-926d-3725a55a562a"
      },
      "execution_count": 53,
      "outputs": [
        {
          "output_type": "stream",
          "name": "stderr",
          "text": [
            "/usr/local/lib/python3.7/dist-packages/statsmodels/tsa/tsatools.py:142: FutureWarning: In a future version of pandas all arguments of concat except for the argument 'objs' will be keyword-only\n",
            "  x = pd.concat(x[::order], 1)\n"
          ]
        },
        {
          "output_type": "execute_result",
          "data": {
            "text/plain": [
              "<class 'statsmodels.iolib.summary.Summary'>\n",
              "\"\"\"\n",
              "                            OLS Regression Results                            \n",
              "==============================================================================\n",
              "Dep. Variable:            PayConserve   R-squared:                       0.027\n",
              "Model:                            OLS   Adj. R-squared:                  0.019\n",
              "Method:                 Least Squares   F-statistic:                     3.612\n",
              "Date:                Sat, 29 Oct 2022   Prob (F-statistic):            0.00313\n",
              "Time:                        10:21:57   Log-Likelihood:                -435.24\n",
              "No. Observations:                 668   AIC:                             882.5\n",
              "Df Residuals:                     662   BIC:                             909.5\n",
              "Df Model:                           5                                         \n",
              "Covariance Type:            nonrobust                                         \n",
              "===============================================================================\n",
              "                  coef    std err          t      P>|t|      [0.025      0.975]\n",
              "-------------------------------------------------------------------------------\n",
              "const           0.8073      0.070     11.551      0.000       0.670       0.944\n",
              "Income      -6.326e-07   6.98e-07     -0.907      0.365      -2e-06    7.37e-07\n",
              "Age            -0.0031      0.001     -2.622      0.009      -0.005      -0.001\n",
              "AdultWhales     0.0029      0.005      0.585      0.559      -0.007       0.013\n",
              "YoungWhales    -0.0159      0.042     -0.382      0.703      -0.098       0.066\n",
              "Max_wtp         0.0029      0.001      2.912      0.004       0.001       0.005\n",
              "==============================================================================\n",
              "Omnibus:                     5964.347   Durbin-Watson:                   1.945\n",
              "Prob(Omnibus):                  0.000   Jarque-Bera (JB):              112.244\n",
              "Skew:                          -0.682   Prob(JB):                     4.23e-25\n",
              "Kurtosis:                       1.525   Cond. No.                     2.03e+05\n",
              "==============================================================================\n",
              "\n",
              "Notes:\n",
              "[1] Standard Errors assume that the covariance matrix of the errors is correctly specified.\n",
              "[2] The condition number is large, 2.03e+05. This might indicate that there are\n",
              "strong multicollinearity or other numerical problems.\n",
              "\"\"\""
            ],
            "text/html": [
              "<table class=\"simpletable\">\n",
              "<caption>OLS Regression Results</caption>\n",
              "<tr>\n",
              "  <th>Dep. Variable:</th>       <td>PayConserve</td>   <th>  R-squared:         </th> <td>   0.027</td>\n",
              "</tr>\n",
              "<tr>\n",
              "  <th>Model:</th>                   <td>OLS</td>       <th>  Adj. R-squared:    </th> <td>   0.019</td>\n",
              "</tr>\n",
              "<tr>\n",
              "  <th>Method:</th>             <td>Least Squares</td>  <th>  F-statistic:       </th> <td>   3.612</td>\n",
              "</tr>\n",
              "<tr>\n",
              "  <th>Date:</th>             <td>Sat, 29 Oct 2022</td> <th>  Prob (F-statistic):</th>  <td>0.00313</td>\n",
              "</tr>\n",
              "<tr>\n",
              "  <th>Time:</th>                 <td>10:21:57</td>     <th>  Log-Likelihood:    </th> <td> -435.24</td>\n",
              "</tr>\n",
              "<tr>\n",
              "  <th>No. Observations:</th>      <td>   668</td>      <th>  AIC:               </th> <td>   882.5</td>\n",
              "</tr>\n",
              "<tr>\n",
              "  <th>Df Residuals:</th>          <td>   662</td>      <th>  BIC:               </th> <td>   909.5</td>\n",
              "</tr>\n",
              "<tr>\n",
              "  <th>Df Model:</th>              <td>     5</td>      <th>                     </th>     <td> </td>   \n",
              "</tr>\n",
              "<tr>\n",
              "  <th>Covariance Type:</th>      <td>nonrobust</td>    <th>                     </th>     <td> </td>   \n",
              "</tr>\n",
              "</table>\n",
              "<table class=\"simpletable\">\n",
              "<tr>\n",
              "       <td></td>          <th>coef</th>     <th>std err</th>      <th>t</th>      <th>P>|t|</th>  <th>[0.025</th>    <th>0.975]</th>  \n",
              "</tr>\n",
              "<tr>\n",
              "  <th>const</th>       <td>    0.8073</td> <td>    0.070</td> <td>   11.551</td> <td> 0.000</td> <td>    0.670</td> <td>    0.944</td>\n",
              "</tr>\n",
              "<tr>\n",
              "  <th>Income</th>      <td>-6.326e-07</td> <td> 6.98e-07</td> <td>   -0.907</td> <td> 0.365</td> <td>   -2e-06</td> <td> 7.37e-07</td>\n",
              "</tr>\n",
              "<tr>\n",
              "  <th>Age</th>         <td>   -0.0031</td> <td>    0.001</td> <td>   -2.622</td> <td> 0.009</td> <td>   -0.005</td> <td>   -0.001</td>\n",
              "</tr>\n",
              "<tr>\n",
              "  <th>AdultWhales</th> <td>    0.0029</td> <td>    0.005</td> <td>    0.585</td> <td> 0.559</td> <td>   -0.007</td> <td>    0.013</td>\n",
              "</tr>\n",
              "<tr>\n",
              "  <th>YoungWhales</th> <td>   -0.0159</td> <td>    0.042</td> <td>   -0.382</td> <td> 0.703</td> <td>   -0.098</td> <td>    0.066</td>\n",
              "</tr>\n",
              "<tr>\n",
              "  <th>Max_wtp</th>     <td>    0.0029</td> <td>    0.001</td> <td>    2.912</td> <td> 0.004</td> <td>    0.001</td> <td>    0.005</td>\n",
              "</tr>\n",
              "</table>\n",
              "<table class=\"simpletable\">\n",
              "<tr>\n",
              "  <th>Omnibus:</th>       <td>5964.347</td> <th>  Durbin-Watson:     </th> <td>   1.945</td>\n",
              "</tr>\n",
              "<tr>\n",
              "  <th>Prob(Omnibus):</th>  <td> 0.000</td>  <th>  Jarque-Bera (JB):  </th> <td> 112.244</td>\n",
              "</tr>\n",
              "<tr>\n",
              "  <th>Skew:</th>           <td>-0.682</td>  <th>  Prob(JB):          </th> <td>4.23e-25</td>\n",
              "</tr>\n",
              "<tr>\n",
              "  <th>Kurtosis:</th>       <td> 1.525</td>  <th>  Cond. No.          </th> <td>2.03e+05</td>\n",
              "</tr>\n",
              "</table><br/><br/>Notes:<br/>[1] Standard Errors assume that the covariance matrix of the errors is correctly specified.<br/>[2] The condition number is large, 2.03e+05. This might indicate that there are<br/>strong multicollinearity or other numerical problems."
            ]
          },
          "metadata": {},
          "execution_count": 53
        }
      ]
    },
    {
      "cell_type": "markdown",
      "source": [
        "## Debido a que el PValor es menor a 0.05 se llega a laconclusion que solo dos de sus variables (Las anteriormente mencionadas) son realmente significativas"
      ],
      "metadata": {
        "id": "3Nii5flJRaLN"
      }
    },
    {
      "cell_type": "code",
      "source": [],
      "metadata": {
        "id": "C8JrvVsIRuVy"
      },
      "execution_count": null,
      "outputs": []
    },
    {
      "cell_type": "markdown",
      "source": [
        "#¿Cuál es el efecto de haber visto ballenas (adultas o jóvenes) en la probabilidad de pagar por conservar 2 dólares cada semana durante 10 años?\n",
        "\n",
        "**RTA/**Debido a que muchas personas no vieron ballenas genera estadisticamente que el efecto sea bajo por la predisposición que tienen las personas al querer no gastar 2 dolares por cada semana durante los siguientes 10 años."
      ],
      "metadata": {
        "id": "623f9lE3Q8QE"
      }
    },
    {
      "cell_type": "markdown",
      "source": [
        "#Integrantes\n",
        "##-Alejandro Garzon\n",
        "##-Juan Pablo Pino\n",
        "##-Nikolas Venegas "
      ],
      "metadata": {
        "id": "y8mFZkyHTvpR"
      }
    },
    {
      "cell_type": "code",
      "source": [],
      "metadata": {
        "id": "fYrCqKifT3zp"
      },
      "execution_count": null,
      "outputs": []
    }
  ]
}